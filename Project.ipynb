{
  "nbformat": 4,
  "nbformat_minor": 0,
  "metadata": {
    "colab": {
      "provenance": []
    },
    "kernelspec": {
      "name": "python3",
      "display_name": "Python 3"
    },
    "language_info": {
      "name": "python"
    }
  },
  "cells": [
    {
      "cell_type": "markdown",
      "source": [],
      "metadata": {
        "id": "Nj697L7_nD8n"
      }
    },
    {
      "cell_type": "markdown",
      "source": [
        "### Topic\n",
        "The Impact of Social Media on Public Attitudes Toward the Israeli-Palestinian Conflict: A Case Study of America and Arab countries\n",
        "### Data Sources\n",
        "- X, ins: to locate the turning point\n",
        "- google trend, ACLED\n",
        "### Approach\n",
        "- Using the number of clicks on posts about Palestine on Twitter and Instagram as a representation of social media's influence on American public opinion, and researching trends related to relevant topics.\n",
        "- Reflecting the influence of social media on American public opinion through changes in the number of searches related to Palestine on Google and the number of political and social movements in the United States related to the Israeli-Palestinian conflict, while analyzing relevant news or reports since the conflict began to understand how different platforms or media outlets have expressed their attitudes through these articles.\n",
        "- Conducting a correlation analysis using SPSS with time as a key variable\n",
        "- Comparing Arab countries with America\n",
        "### Research method\n",
        "- Quantitative data analysis\n",
        "- Content analysis,\n",
        "- sentiment analysis,\n",
        "- interaction analysis,\n",
        "- public opinion change.\n"
      ],
      "metadata": {
        "id": "paVBXif1rlyN"
      }
    }
  ]
}