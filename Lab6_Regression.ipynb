{
  "cells": [
    {
      "cell_type": "markdown",
      "id": "56fb16cb",
      "metadata": {
        "id": "56fb16cb"
      },
      "source": [
        "## Lab Assignment 6 -- Regression\n",
        "In this lab, you will complete an exercises related to the lecture material on regression. Then, you will compete with your fellow classmates to see who can best predict housing prices.\n",
        "\n",
        "**IMPORTANT:** Before submitting, make sure you restart the kernel and run all cells sequentially. After all cells have executed, then save the file for submission.  This is very important for grading."
      ]
    },
    {
      "cell_type": "code",
      "id": "3fa22484",
      "metadata": {
        "id": "3fa22484"
      },
      "source": [
        "# Don't change this line\n",
        "import numpy as np\n",
        "import matplotlib.pyplot as plt\n",
        "from sklearn import metrics\n",
        "import pandas as pd\n",
        "np.random.seed(35)"
      ],
      "outputs": [],
      "execution_count": 21
    },
    {
      "cell_type": "markdown",
      "id": "a8137271",
      "metadata": {
        "id": "a8137271"
      },
      "source": [
        "## Exercise 1 -- Generating & Analyzing Fake Data\n",
        "In this exercise, we will generate some fake data as we did in the lecture on regression trees. Then, we will use it on a series of regression problems."
      ]
    },
    {
      "cell_type": "markdown",
      "id": "509af2e9",
      "metadata": {
        "id": "509af2e9"
      },
      "source": [
        "## Exercise 1a -- Generating the Data\n",
        "Complete the following steps:\n",
        "1. Define a function called `generate_data` that takes two arguments, an integer `n` and a boolean `square`. `square` should have a default argument of `False`.\n",
        "2. Generate an array called `X` and set it equal to `np.random.randn((n,1))`. This creates an $n$-vector of [**standard normal random variables**](https://en.wikipedia.org/wiki/Normal_distribution).\n",
        "3. Turn `X` into an $nx2$ array by concatenating it with an $n$-vector of ones (**Hint**: use `np.ones((n,1))` and `np.concatenate()`). Make sure that the array of ones serves as the first column.\n",
        "3. Define an array called `beta` and set it equal to the array [1, 3.14]\n",
        "4. Define a variable called `epsilon` and set it equal to `np.random.randn(n)*0.3`\n",
        "5. Then, using `X`, `beta`, and `epsilon`, create a variable named `y` which is equal to\n",
        "    - `np.matmul(X, beta) + epsilon` if square is `False`\n",
        "    - `np.matmul(X ** 2, beta) + epsilon` if `square` is `True`.\n",
        "    \n",
        "6. Your output should return `X`and `y`\n",
        "7. Test your function in the cell below with `n=100` and no argument for `square`. Save the output to `X100` and `y100` respectively. Afterwards, print `y100[50]`.\n",
        "\n",
        "Answer the following questions in the Markdown cell below:\n",
        "1. Is this a bivariate or multivariate linear regression model? Why?\n",
        "2. What is the purpose of  including this `epsilon`? What aspect of real data are we trying to mimic?"
      ]
    },
    {
      "cell_type": "code",
      "id": "c847213c",
      "metadata": {
        "colab": {
          "base_uri": "https://localhost:8080/"
        },
        "id": "c847213c",
        "outputId": "42065b87-7d8c-4069-8edc-00d251bd2d60"
      },
      "source": [
        "# Exercise 1a -- Test function and print\n",
        "import numpy as np\n",
        "def generate_data(n, square=False):\n",
        "    X = np.random.randn(n, 1)\n",
        "    X = np.concatenate([np.ones((n, 1)), X], axis=1)\n",
        "    beta = np.array([1, 3.14])\n",
        "    epsilon = np.random.randn(n) * 0.3\n",
        "    if square:\n",
        "        y = np.matmul(X ** 2, beta) + epsilon\n",
        "    else:\n",
        "        y = np.matmul(X, beta) + epsilon\n",
        "    return X, y\n",
        "X100, y100 = generate_data(100)\n",
        "print(y100[50])\n"
      ],
      "outputs": [
        {
          "output_type": "stream",
          "name": "stdout",
          "text": [
            "-2.855072207243597\n"
          ]
        }
      ],
      "execution_count": 22
    },
    {
      "cell_type": "markdown",
      "id": "d9d47ea4",
      "metadata": {
        "id": "d9d47ea4"
      },
      "source": [
        "### Reponse to Exercise 1a"
      ]
    },
    {
      "cell_type": "markdown",
      "source": [
        "- This is a bivariate linear regression model. Despite using an array X with two columns, one column consists of ones(the intercept term), and the other is a single feature.A multivariate model would involve multiple independent features, wheras this model involves only one independent feature.\n",
        "- The purpose of including epsilon is to introduce noise into the model, which mimics the randomness and variability present in real-world data. In real-world scenarios, data typically contains noise due to various uncontrollable factors, measurement errors, and inherent variability in the data generation process. This ensures the model is more realistic and robust to variations in data."
      ],
      "metadata": {
        "id": "VUn9YOfWNEZ8"
      },
      "id": "VUn9YOfWNEZ8"
    },
    {
      "cell_type": "markdown",
      "id": "be3ee923",
      "metadata": {
        "id": "be3ee923"
      },
      "source": [
        "## Exercise 1b -- Standard Linear Regression\n",
        "Using `sklearn`, fit a linear regression model on `y100` and `X100`. When intializing your model, set `fit_intercept` equal to `False` and call your linear model `lr_model_1`. Then, print the estimated coefficients and answer the following question in the Markdown cell below.\n",
        "- What are the coefficient estimates? What values are they close to? Why does this make sense?\n",
        "\n"
      ]
    },
    {
      "cell_type": "code",
      "id": "f9955e7f",
      "metadata": {
        "colab": {
          "base_uri": "https://localhost:8080/"
        },
        "id": "f9955e7f",
        "outputId": "3f81195a-556e-47db-e301-421d82022819"
      },
      "source": [
        "# Exercise 1b -- fit regression\n",
        "from sklearn.linear_model import LinearRegression\n",
        "lr_model_1 = LinearRegression(fit_intercept=False)\n",
        "lr_model_1.fit(X100, y100)\n",
        "coefficients = lr_model_1.coef_\n",
        "print(\"Estimated Coefficients:\", coefficients)\n"
      ],
      "outputs": [
        {
          "output_type": "stream",
          "name": "stdout",
          "text": [
            "Estimated Coefficients: [1.01335663 3.18589237]\n"
          ]
        }
      ],
      "execution_count": 23
    },
    {
      "cell_type": "markdown",
      "id": "d0d5d044",
      "metadata": {
        "id": "d0d5d044"
      },
      "source": [
        "### Response to Exercise 1b"
      ]
    },
    {
      "cell_type": "markdown",
      "source": [
        "- The estimated coefficients are 1.01335663 and 3.18589237.\n",
        "- They are close to the values\n",
        "[1,3.14] that were defined in the beta array in the generate_data function.\n",
        "- This makes sense because the data was generated using the linear relaitonship y=Intercept × 1 +Coefficient for X×X+ϵ, where the true intercept was 1 and the true coefficient for 𝑋 was 3.14. The slight differences are due to the added noise (\n",
        "𝜖) in the data, which introduces variability, but the estimates are very close to the true values, indicating a good fit by the linear regression model.\n",
        "\n"
      ],
      "metadata": {
        "id": "Cj_0Ge_uOpYQ"
      },
      "id": "Cj_0Ge_uOpYQ"
    },
    {
      "cell_type": "markdown",
      "id": "085c9960",
      "metadata": {
        "id": "085c9960"
      },
      "source": [
        "## Exercise 1c -- Linear Regression with Quadratic Terms\n",
        "Using `generate_data(100, True)`, create two variables `y100_2` and `X100_2`. Then, repeat the steps from **Exercise 1b** above using `X100_2` and `y100_2` instead of `X_100` and `y_100`.  Call your new model `linear_model_2`.\n",
        "\n",
        "Answer the following questions in the Markdown cell below:\n",
        "\n",
        "1. What are the coefficient estimates? Are they similar to the coefficients from **Exercise 1b**? Why or why not?\n",
        "\n",
        "If your estimates were not similar, create a variable `X100_2_sq` in the third cell below that can be used instead of `X100_2` so that your estimates are similar again. Repeat the same process again but call your `lr_model_3`. Print your new estimated coefficients.\n",
        "\n",
        "In the markdown cell below, answer the following question:\n",
        "\n",
        "2. How did you modify `X100_2` to attain similar coefficients? Why did this work?"
      ]
    },
    {
      "cell_type": "code",
      "id": "be504991",
      "metadata": {
        "id": "be504991",
        "colab": {
          "base_uri": "https://localhost:8080/"
        },
        "outputId": "b7a8b942-2cf0-47eb-b823-36b65a174d5d"
      },
      "source": [
        "# Exercise 1c -- generate variables and repeat regression fit\n",
        "from sklearn.linear_model import LinearRegression\n",
        "import numpy as np\n",
        "def generate_data(n, flag):\n",
        "    np.random.seed(0)\n",
        "    X = np.random.rand(n, 2)\n",
        "    if flag:\n",
        "        y = X @ np.array([1.5, 3]) + np.random.randn(n)\n",
        "    else:\n",
        "        y = X @ np.array([1.5, 3])\n",
        "    return X, y\n",
        "X100_2, y100_2 = generate_data(100, True)\n",
        "linear_model_2 = LinearRegression()\n",
        "linear_model_2.fit(X100_2, y100_2)\n",
        "coefficients_2 = linear_model_2.coef_\n",
        "coefficients_2\n"
      ],
      "outputs": [
        {
          "output_type": "execute_result",
          "data": {
            "text/plain": [
              "array([1.07370044, 3.02957506])"
            ]
          },
          "metadata": {},
          "execution_count": 24
        }
      ],
      "execution_count": 24
    },
    {
      "cell_type": "markdown",
      "id": "064117e4",
      "metadata": {
        "id": "064117e4"
      },
      "source": [
        "### Response to Exercise 1c -- Question 1"
      ]
    },
    {
      "cell_type": "markdown",
      "source": [
        "The obtained coefficients\n",
        "[1.07370044,3.02957506] are somewhat close but not exactly equal to the given coefficients [1.01335663,3.18589237]. Firstly,The generate_data function adds random noise to the generated y values when flag is True. This noise affects the linear relationship between X and y, leading to variations in the coefficient estimates. Secondly, Each time the data is generated, the specific random values in X and the random noise in y will be different (despite the same seed), leading to slightly different estimates.\n"
      ],
      "metadata": {
        "id": "QNeNDxbSYI5i"
      },
      "id": "QNeNDxbSYI5i"
    },
    {
      "cell_type": "code",
      "id": "af3c6cd1",
      "metadata": {
        "id": "af3c6cd1",
        "colab": {
          "base_uri": "https://localhost:8080/"
        },
        "outputId": "b623699b-14a6-4940-db89-7a124ed15148"
      },
      "source": [
        "# Exercise 1c -- modify X100_2 and run new regression\n",
        "X100_2_sq = np.hstack([X100_2, X100_2**2])\n",
        "lr_model_3 = LinearRegression()\n",
        "lr_model_3.fit(X100_2_sq, y100_2)\n",
        "coefficients_3 = lr_model_3.coef_\n",
        "coefficients_3\n"
      ],
      "outputs": [
        {
          "output_type": "execute_result",
          "data": {
            "text/plain": [
              "array([ 1.37939947,  4.83503314, -0.3485133 , -1.84442062])"
            ]
          },
          "metadata": {},
          "execution_count": 25
        }
      ],
      "execution_count": 25
    },
    {
      "cell_type": "markdown",
      "id": "ad67e55d",
      "metadata": {
        "id": "ad67e55d"
      },
      "source": [
        "### Response to Exercise 1c -- Quesiton 2"
      ]
    },
    {
      "cell_type": "markdown",
      "source": [
        "- By adding the squared terms to X1002, we attempted to capture potential non-linear relationships between the features and the target variable. This adjustment often helps in better fitting the model to the underlying data structure, thus potentially aligning the estimated coefficients more closely to the true coefficients.\n",
        "- Adding squared terms (or other polynomial terms) can help the linear regression model capture non-linear relationships. In our case, although the exact coefficients did not match, including the squared terms improved the model's capacity to fit the data by introducing additional complexity."
      ],
      "metadata": {
        "id": "SJvWeSieZez3"
      },
      "id": "SJvWeSieZez3"
    },
    {
      "cell_type": "markdown",
      "id": "bebaa1d3",
      "metadata": {
        "id": "bebaa1d3"
      },
      "source": [
        "### Exercise 1d -- Unnecessary Quadratic Terms\n",
        "Now we are going to see what happens when we estimate a model that only has linear terms using both linear and quadratic terms. Complete the following steps:\n",
        "1. Create an $nx3$ array called `X100_ext` by concatenating `X100` with a column that is equal to the square of elements in the second column. Make sure this new column is the third column. Note that `np.concatenate` requires that both arrays are of the same dimension. You may have to use the method [`.reshape()`](https://numpy.org/doc/stable/reference/generated/numpy.reshape.html).\n",
        "2. Now repeat the steps of **Exercise 1b** with `X100_ext`. Make sure you print the estimated coefficients.\n",
        "\n",
        "Answer the following questions in the Markdown cell below:\n",
        "1. Are the first two coefficients different from their respective counterparts in part **Exercise 1b**? Why do you think this is?\n",
        "2.  Is the third coeffcient close to 0 or large? Why do you think this is?\n",
        "3. Do you think these estimates are accurate?"
      ]
    },
    {
      "cell_type": "code",
      "id": "ba894f15",
      "metadata": {
        "scrolled": true,
        "id": "ba894f15"
      },
      "source": [
        "# Exercise 1d -- Create X100_ext here\n",
        "X100_ext = np.concatenate((X100, X100[:, 1:2] ** 2), axis=1)"
      ],
      "outputs": [],
      "execution_count": 26
    },
    {
      "cell_type": "code",
      "id": "50115717",
      "metadata": {
        "id": "50115717",
        "colab": {
          "base_uri": "https://localhost:8080/"
        },
        "outputId": "9e1df563-25c2-4494-e413-cf8137c3b86b"
      },
      "source": [
        "# Exercise 1d -- Repeat exercise 1b here\n",
        "linear_model_ext = LinearRegression(fit_intercept=False)\n",
        "linear_model_ext.fit(X100_ext, y100)\n",
        "print(linear_model_ext.coef_)"
      ],
      "outputs": [
        {
          "output_type": "stream",
          "name": "stdout",
          "text": [
            "[ 1.02282831  3.18470138 -0.00810062]\n"
          ]
        }
      ],
      "execution_count": 27
    },
    {
      "cell_type": "markdown",
      "id": "a18eab25",
      "metadata": {
        "id": "a18eab25"
      },
      "source": [
        "### Response to Exercise 1d"
      ]
    },
    {
      "cell_type": "markdown",
      "source": [
        "- Yes, the first two coefficients in lr_model_2 are different from their respective counterparts in lr_model_1. This is because the model now includes an additional quadratic term, which changes the way the linear terms are estimated to best fit the data. The inclusion of the quadratic term allows the model to capture more complex relationships, affecting the estimates of the linear coefficients.\n",
        "- The third coefficient may be close to 0 or relatively small if the quadratic term does not contribute much additional information beyond the linear terms. If the underlying relationship between the features and the target is predominantly linear, the quadratic term will have a minimal impact, resulting in a coefficient close to 0. However, if the quadratic term captures significant variation in the target variable, the coefficient could be larger.\n",
        "- The accuracy of these estimates depends on the true underlying relationship between the features and the target variable. If the relationship is indeed linear with no significant quadratic component, the original linear model (lr_model_1) would be more accurate. However, if there is a quadratic relationship present, the extended model (lr_model_2) would provide more accurate estimates. The inclusion of irrelevant quadratic terms could lead to overfitting, while excluding relevant terms could lead to underfitting."
      ],
      "metadata": {
        "id": "9XBEWy7Mf8RJ"
      },
      "id": "9XBEWy7Mf8RJ"
    },
    {
      "cell_type": "markdown",
      "id": "7b3fd11d",
      "metadata": {
        "id": "7b3fd11d"
      },
      "source": [
        "## Exercise 1e -- Regression Plots\n",
        "Following the notes in the plotting lectures complete the following steps:\n",
        "1. Using `subplots()` initialize a figure with 4 figures in a $2x2$ grid\n",
        "2. Plot the following in the indicated location.\n",
        "    - **Top-left**  -- a line plot of `lr_model_1` and a scatter plot of the data used to generate `lr_model_1`.\n",
        "    - **Bottom-left**  -- a line plot of `lr_model_2` and a scatter plot of the data used to generate `lr_model_2`\n",
        "    - **Bottom-right** -- a line plot of `lr_model_3` and a scatter plot of the data used to generate `lr_model_3`\n",
        "    - **Top-right** -- a line plot of `lr_model_4` and a scatter plot of the data used to generate `lr_model_4`\n",
        "    \n",
        "For the plots above,\n",
        "- make your lines red,\n",
        "- title your plots (e.g. \"Linear Model 1\"),\n",
        "- use `np.linspace(-4,4,200)` as your domain when plotting the lines,\n",
        "- call `fig.tight_layout()` so your plot is not cluttered\n",
        "\n",
        "3. Using the `metrics` submodule of `sklearn`, print the `in-sample` mean squared errors of each model using f strings. Your stings should looke like this: \"MSE of Linear Model 1 is .3\"  \n",
        "**Hints:** .\n",
        "- To plot on the top left axis, you will need to work with `axes.flat[0]` . The remaining axes are indexed by 1, 2, and 3.\n",
        "- If you choose to used the `.predict()` to plot your lines, keep in mind you need to provide it with the correctly shaped input.\n",
        "- When calculating the means within a loop, it may hep to create a list that contains the four linear models.\n"
      ]
    },
    {
      "cell_type": "code",
      "id": "06bb2cad",
      "metadata": {
        "scrolled": false,
        "id": "06bb2cad",
        "colab": {
          "base_uri": "https://localhost:8080/",
          "height": 1000
        },
        "outputId": "de403e9e-eae3-4598-d64b-0e56ccb48156"
      },
      "source": [
        "# Exercise 1e -- plots\n",
        "fig, axs = plt.subplots(2, 2, figsize=(10, 10))\n",
        "\n",
        "lr_model_1 = LinearRegression(fit_intercept=False).fit(X100, y100)\n",
        "lr_model_2 = LinearRegression(fit_intercept=False).fit(X100_2, y100_2)\n",
        "lr_model_3 = LinearRegression(fit_intercept=False).fit(X100_2_sq, y100_2)\n",
        "lr_model_4 = LinearRegression(fit_intercept=False).fit(X100_ext, y100)\n",
        "\n",
        "x_domain = np.linspace(-4, 4, 200).reshape(-1, 1)\n",
        "X_domain_1 = np.concatenate((np.ones((200, 1)), x_domain), axis=1)\n",
        "X_domain_2 = np.concatenate((np.ones((200, 1)), x_domain ** 2), axis=1)\n",
        "X_domain_ext = np.concatenate((np.ones((200, 1)), x_domain, x_domain ** 2), axis=1)\n",
        "\n",
        "axs[0, 0].scatter(X100[:, 1], y100, label='Data', color='blue')\n",
        "axs[0, 0].plot(x_domain, lr_model_1.predict(X_domain_1), label='Model', color='red')\n",
        "axs[0, 0].set_title(\"Linear Model 1\")\n",
        "axs[0, 0].legend()\n",
        "axs[1, 0].scatter(X100_2[:, 1], y100_2, label='Data', color='blue')\n",
        "axs[1, 0].plot(x_domain, lr_model_2.predict(X_domain_1), label='Model', color='red')\n",
        "axs[1, 0].set_title(\"Linear Model 2\")\n",
        "axs[1, 0].legend()\n",
        "axs[1, 1].scatter(X100_2[:, 1], y100_2, label='Data', color='blue')\n",
        "axs[1, 1].plot(x_domain, lr_model_3.predict(X_domain_2), label='Model', color='red')\n",
        "axs[1, 1].set_title(\"Linear Model 3\")\n",
        "axs[1, 1].legend()\n",
        "axs[0, 1].scatter(X100[:, 1], y100, label='Data', color='blue')\n",
        "axs[0, 1].plot(x_domain, lr_model_4.predict(X_domain_ext), label='Model', color='red')\n",
        "axs[0, 1].set_title(\"Linear Model 4\")\n",
        "axs[0, 1].legend()\n",
        "\n",
        "fig.tight_layout()\n",
        "plt.show()"
      ],
      "outputs": [
        {
          "output_type": "error",
          "ename": "ValueError",
          "evalue": "X has 2 features, but LinearRegression is expecting 4 features as input.",
          "traceback": [
            "\u001b[0;31m---------------------------------------------------------------------------\u001b[0m",
            "\u001b[0;31mValueError\u001b[0m                                Traceback (most recent call last)",
            "\u001b[0;32m<ipython-input-28-a1f1826fb980>\u001b[0m in \u001b[0;36m<cell line: 23>\u001b[0;34m()\u001b[0m\n\u001b[1;32m     21\u001b[0m \u001b[0maxs\u001b[0m\u001b[0;34m[\u001b[0m\u001b[0;36m1\u001b[0m\u001b[0;34m,\u001b[0m \u001b[0;36m0\u001b[0m\u001b[0;34m]\u001b[0m\u001b[0;34m.\u001b[0m\u001b[0mlegend\u001b[0m\u001b[0;34m(\u001b[0m\u001b[0;34m)\u001b[0m\u001b[0;34m\u001b[0m\u001b[0;34m\u001b[0m\u001b[0m\n\u001b[1;32m     22\u001b[0m \u001b[0maxs\u001b[0m\u001b[0;34m[\u001b[0m\u001b[0;36m1\u001b[0m\u001b[0;34m,\u001b[0m \u001b[0;36m1\u001b[0m\u001b[0;34m]\u001b[0m\u001b[0;34m.\u001b[0m\u001b[0mscatter\u001b[0m\u001b[0;34m(\u001b[0m\u001b[0mX100_2\u001b[0m\u001b[0;34m[\u001b[0m\u001b[0;34m:\u001b[0m\u001b[0;34m,\u001b[0m \u001b[0;36m1\u001b[0m\u001b[0;34m]\u001b[0m\u001b[0;34m,\u001b[0m \u001b[0my100_2\u001b[0m\u001b[0;34m,\u001b[0m \u001b[0mlabel\u001b[0m\u001b[0;34m=\u001b[0m\u001b[0;34m'Data'\u001b[0m\u001b[0;34m,\u001b[0m \u001b[0mcolor\u001b[0m\u001b[0;34m=\u001b[0m\u001b[0;34m'blue'\u001b[0m\u001b[0;34m)\u001b[0m\u001b[0;34m\u001b[0m\u001b[0;34m\u001b[0m\u001b[0m\n\u001b[0;32m---> 23\u001b[0;31m \u001b[0maxs\u001b[0m\u001b[0;34m[\u001b[0m\u001b[0;36m1\u001b[0m\u001b[0;34m,\u001b[0m \u001b[0;36m1\u001b[0m\u001b[0;34m]\u001b[0m\u001b[0;34m.\u001b[0m\u001b[0mplot\u001b[0m\u001b[0;34m(\u001b[0m\u001b[0mx_domain\u001b[0m\u001b[0;34m,\u001b[0m \u001b[0mlr_model_3\u001b[0m\u001b[0;34m.\u001b[0m\u001b[0mpredict\u001b[0m\u001b[0;34m(\u001b[0m\u001b[0mX_domain_2\u001b[0m\u001b[0;34m)\u001b[0m\u001b[0;34m,\u001b[0m \u001b[0mlabel\u001b[0m\u001b[0;34m=\u001b[0m\u001b[0;34m'Model'\u001b[0m\u001b[0;34m,\u001b[0m \u001b[0mcolor\u001b[0m\u001b[0;34m=\u001b[0m\u001b[0;34m'red'\u001b[0m\u001b[0;34m)\u001b[0m\u001b[0;34m\u001b[0m\u001b[0;34m\u001b[0m\u001b[0m\n\u001b[0m\u001b[1;32m     24\u001b[0m \u001b[0maxs\u001b[0m\u001b[0;34m[\u001b[0m\u001b[0;36m1\u001b[0m\u001b[0;34m,\u001b[0m \u001b[0;36m1\u001b[0m\u001b[0;34m]\u001b[0m\u001b[0;34m.\u001b[0m\u001b[0mset_title\u001b[0m\u001b[0;34m(\u001b[0m\u001b[0;34m\"Linear Model 3\"\u001b[0m\u001b[0;34m)\u001b[0m\u001b[0;34m\u001b[0m\u001b[0;34m\u001b[0m\u001b[0m\n\u001b[1;32m     25\u001b[0m \u001b[0maxs\u001b[0m\u001b[0;34m[\u001b[0m\u001b[0;36m1\u001b[0m\u001b[0;34m,\u001b[0m \u001b[0;36m1\u001b[0m\u001b[0;34m]\u001b[0m\u001b[0;34m.\u001b[0m\u001b[0mlegend\u001b[0m\u001b[0;34m(\u001b[0m\u001b[0;34m)\u001b[0m\u001b[0;34m\u001b[0m\u001b[0;34m\u001b[0m\u001b[0m\n",
            "\u001b[0;32m/usr/local/lib/python3.10/dist-packages/sklearn/linear_model/_base.py\u001b[0m in \u001b[0;36mpredict\u001b[0;34m(self, X)\u001b[0m\n\u001b[1;32m    384\u001b[0m             \u001b[0mReturns\u001b[0m \u001b[0mpredicted\u001b[0m \u001b[0mvalues\u001b[0m\u001b[0;34m.\u001b[0m\u001b[0;34m\u001b[0m\u001b[0;34m\u001b[0m\u001b[0m\n\u001b[1;32m    385\u001b[0m         \"\"\"\n\u001b[0;32m--> 386\u001b[0;31m         \u001b[0;32mreturn\u001b[0m \u001b[0mself\u001b[0m\u001b[0;34m.\u001b[0m\u001b[0m_decision_function\u001b[0m\u001b[0;34m(\u001b[0m\u001b[0mX\u001b[0m\u001b[0;34m)\u001b[0m\u001b[0;34m\u001b[0m\u001b[0;34m\u001b[0m\u001b[0m\n\u001b[0m\u001b[1;32m    387\u001b[0m \u001b[0;34m\u001b[0m\u001b[0m\n\u001b[1;32m    388\u001b[0m     \u001b[0;32mdef\u001b[0m \u001b[0m_set_intercept\u001b[0m\u001b[0;34m(\u001b[0m\u001b[0mself\u001b[0m\u001b[0;34m,\u001b[0m \u001b[0mX_offset\u001b[0m\u001b[0;34m,\u001b[0m \u001b[0my_offset\u001b[0m\u001b[0;34m,\u001b[0m \u001b[0mX_scale\u001b[0m\u001b[0;34m)\u001b[0m\u001b[0;34m:\u001b[0m\u001b[0;34m\u001b[0m\u001b[0;34m\u001b[0m\u001b[0m\n",
            "\u001b[0;32m/usr/local/lib/python3.10/dist-packages/sklearn/linear_model/_base.py\u001b[0m in \u001b[0;36m_decision_function\u001b[0;34m(self, X)\u001b[0m\n\u001b[1;32m    367\u001b[0m         \u001b[0mcheck_is_fitted\u001b[0m\u001b[0;34m(\u001b[0m\u001b[0mself\u001b[0m\u001b[0;34m)\u001b[0m\u001b[0;34m\u001b[0m\u001b[0;34m\u001b[0m\u001b[0m\n\u001b[1;32m    368\u001b[0m \u001b[0;34m\u001b[0m\u001b[0m\n\u001b[0;32m--> 369\u001b[0;31m         \u001b[0mX\u001b[0m \u001b[0;34m=\u001b[0m \u001b[0mself\u001b[0m\u001b[0;34m.\u001b[0m\u001b[0m_validate_data\u001b[0m\u001b[0;34m(\u001b[0m\u001b[0mX\u001b[0m\u001b[0;34m,\u001b[0m \u001b[0maccept_sparse\u001b[0m\u001b[0;34m=\u001b[0m\u001b[0;34m[\u001b[0m\u001b[0;34m\"csr\"\u001b[0m\u001b[0;34m,\u001b[0m \u001b[0;34m\"csc\"\u001b[0m\u001b[0;34m,\u001b[0m \u001b[0;34m\"coo\"\u001b[0m\u001b[0;34m]\u001b[0m\u001b[0;34m,\u001b[0m \u001b[0mreset\u001b[0m\u001b[0;34m=\u001b[0m\u001b[0;32mFalse\u001b[0m\u001b[0;34m)\u001b[0m\u001b[0;34m\u001b[0m\u001b[0;34m\u001b[0m\u001b[0m\n\u001b[0m\u001b[1;32m    370\u001b[0m         \u001b[0;32mreturn\u001b[0m \u001b[0msafe_sparse_dot\u001b[0m\u001b[0;34m(\u001b[0m\u001b[0mX\u001b[0m\u001b[0;34m,\u001b[0m \u001b[0mself\u001b[0m\u001b[0;34m.\u001b[0m\u001b[0mcoef_\u001b[0m\u001b[0;34m.\u001b[0m\u001b[0mT\u001b[0m\u001b[0;34m,\u001b[0m \u001b[0mdense_output\u001b[0m\u001b[0;34m=\u001b[0m\u001b[0;32mTrue\u001b[0m\u001b[0;34m)\u001b[0m \u001b[0;34m+\u001b[0m \u001b[0mself\u001b[0m\u001b[0;34m.\u001b[0m\u001b[0mintercept_\u001b[0m\u001b[0;34m\u001b[0m\u001b[0;34m\u001b[0m\u001b[0m\n\u001b[1;32m    371\u001b[0m \u001b[0;34m\u001b[0m\u001b[0m\n",
            "\u001b[0;32m/usr/local/lib/python3.10/dist-packages/sklearn/base.py\u001b[0m in \u001b[0;36m_validate_data\u001b[0;34m(self, X, y, reset, validate_separately, cast_to_ndarray, **check_params)\u001b[0m\n\u001b[1;32m    624\u001b[0m \u001b[0;34m\u001b[0m\u001b[0m\n\u001b[1;32m    625\u001b[0m         \u001b[0;32mif\u001b[0m \u001b[0;32mnot\u001b[0m \u001b[0mno_val_X\u001b[0m \u001b[0;32mand\u001b[0m \u001b[0mcheck_params\u001b[0m\u001b[0;34m.\u001b[0m\u001b[0mget\u001b[0m\u001b[0;34m(\u001b[0m\u001b[0;34m\"ensure_2d\"\u001b[0m\u001b[0;34m,\u001b[0m \u001b[0;32mTrue\u001b[0m\u001b[0;34m)\u001b[0m\u001b[0;34m:\u001b[0m\u001b[0;34m\u001b[0m\u001b[0;34m\u001b[0m\u001b[0m\n\u001b[0;32m--> 626\u001b[0;31m             \u001b[0mself\u001b[0m\u001b[0;34m.\u001b[0m\u001b[0m_check_n_features\u001b[0m\u001b[0;34m(\u001b[0m\u001b[0mX\u001b[0m\u001b[0;34m,\u001b[0m \u001b[0mreset\u001b[0m\u001b[0;34m=\u001b[0m\u001b[0mreset\u001b[0m\u001b[0;34m)\u001b[0m\u001b[0;34m\u001b[0m\u001b[0;34m\u001b[0m\u001b[0m\n\u001b[0m\u001b[1;32m    627\u001b[0m \u001b[0;34m\u001b[0m\u001b[0m\n\u001b[1;32m    628\u001b[0m         \u001b[0;32mreturn\u001b[0m \u001b[0mout\u001b[0m\u001b[0;34m\u001b[0m\u001b[0;34m\u001b[0m\u001b[0m\n",
            "\u001b[0;32m/usr/local/lib/python3.10/dist-packages/sklearn/base.py\u001b[0m in \u001b[0;36m_check_n_features\u001b[0;34m(self, X, reset)\u001b[0m\n\u001b[1;32m    413\u001b[0m \u001b[0;34m\u001b[0m\u001b[0m\n\u001b[1;32m    414\u001b[0m         \u001b[0;32mif\u001b[0m \u001b[0mn_features\u001b[0m \u001b[0;34m!=\u001b[0m \u001b[0mself\u001b[0m\u001b[0;34m.\u001b[0m\u001b[0mn_features_in_\u001b[0m\u001b[0;34m:\u001b[0m\u001b[0;34m\u001b[0m\u001b[0;34m\u001b[0m\u001b[0m\n\u001b[0;32m--> 415\u001b[0;31m             raise ValueError(\n\u001b[0m\u001b[1;32m    416\u001b[0m                 \u001b[0;34mf\"X has {n_features} features, but {self.__class__.__name__} \"\u001b[0m\u001b[0;34m\u001b[0m\u001b[0;34m\u001b[0m\u001b[0m\n\u001b[1;32m    417\u001b[0m                 \u001b[0;34mf\"is expecting {self.n_features_in_} features as input.\"\u001b[0m\u001b[0;34m\u001b[0m\u001b[0;34m\u001b[0m\u001b[0m\n",
            "\u001b[0;31mValueError\u001b[0m: X has 2 features, but LinearRegression is expecting 4 features as input."
          ]
        },
        {
          "output_type": "display_data",
          "data": {
            "text/plain": [
              "<Figure size 1000x1000 with 4 Axes>"
            ],
            "image/png": "[encoded data removed]"
          },
          "metadata": {}
        }
      ],
      "execution_count": 28
    },
    {
      "cell_type": "code",
      "id": "83de691e",
      "metadata": {
        "scrolled": true,
        "id": "83de691e"
      },
      "source": [
        "# Exercise 1e -- mean squared errors\n",
        "from sklearn.metrics import mean_squared_error\n",
        "\n",
        "mse_1 = mean_squared_error(y100, lr_model_1.predict(X100))\n",
        "mse_2 = mean_squared_error(y100_2, lr_model_2.predict(X100_2))\n",
        "mse_3 = mean_squared_error(y100_2, lr_model_3.predict(X100_2_sq))\n",
        "mse_4 = mean_squared_error(y100, lr_model_4.predict(X100_ext))\n",
        "\n",
        "print(f\"MSE of Linear Model 1 is {mse_1}\")\n",
        "print(f\"MSE of Linear Model 2 is {mse_2}\")\n",
        "print(f\"MSE of Linear Model 3 is {mse_3}\")\n",
        "print(f\"MSE of Linear Model 4 is {mse_4}\")"
      ],
      "outputs": [],
      "execution_count": null
    },
    {
      "cell_type": "markdown",
      "id": "81baa272",
      "metadata": {
        "id": "81baa272"
      },
      "source": [
        "### Exercise 1f -- Functional Misspecification\n",
        "**Functional Misspecification** is used to describe the situation where the functional form of the regression model we are estimating is not the same as the functional form of the true data generating process. Answer the following question in the markdown cell below:\n",
        "- Which of the four linear models do you think are well-specified? Which ones are not? Is including extra terms problematic when it comes to being well-specified. What about excluding the terms found in the true data generating process?\n",
        "- How does misspecification manifest itself in the plots? How about in the mean squared errors?\n",
        "- After doing this exercise, do you think it is important to investigate the relationship between variables before determining your regression specification? Why or why not?"
      ]
    },
    {
      "cell_type": "markdown",
      "id": "03d3f378",
      "metadata": {
        "id": "03d3f378"
      },
      "source": [
        "### Response to Exercise 1f"
      ]
    },
    {
      "cell_type": "markdown",
      "source": [
        "- Linear Model 1 and 3 are well-specified. Linear Model 2 and 4 are not well-specified.\n",
        "- Including extra terms (overfitting) can make a model more complex than necessary, potentially capturing noise rather than the underlying relationship. This can reduce the model's generalizability to new data.\n",
        "- Excluding necessary terms (underfitting) can lead to a model that is too simplistic and fails to capture important aspects of the data, resulting in poor fit and higher prediction errors.\n",
        "- Misspecification can manifest as a poor fit in the plots, where the fitted line does not align well with the data points.\n",
        "- In terms of MSE, misspecified models will generally have higher MSE values, indicating larger errors between the predicted and actual values.\n",
        "- Yes, because understanding the nature of the data (e.g., linear or non-linear relationships) helps in selecting appropriate model forms and terms, which can lead to better fitting models and more accurate predictions.\n",
        "\n",
        "\n",
        "\n",
        "\n",
        "\n",
        "\n"
      ],
      "metadata": {
        "id": "gyTLpE-KiNke"
      },
      "id": "gyTLpE-KiNke"
    },
    {
      "cell_type": "markdown",
      "id": "77c7d5c8",
      "metadata": {
        "id": "77c7d5c8"
      },
      "source": [
        "### Exercise 1g -- Lasso\n",
        "Finally, we will run lasso on our fake data. Complete the following steps:\n",
        "1. Generate `X1000` and `y1000` using `generate_data(1000)`\n",
        "2. Create an `1000x3` array called `X1000_ext` which is created in a anaglous fashion to `X100_ext`.\n",
        "3. Follow the lecture notes to create a standardized version of `X1000_ext` called `X1000_ext_scl`. You will need to import the `preprocessing` submodule of sklearn.\n",
        "4. Check to make sure your means and variances. You should see that everything looks good except for our intercept has a variance of $0$. You actually do not want to standardize an intercept but we still need it! Replace the first column of  `X1000_ext_scl` with a fresh column of ones using `np.ones(1000)`.\n",
        "5. Create a dataframe version of `X1000_ext_scl` called `X_lasso_df` and rename the columns to \"intercept\", \"x\", and \"x_sq\" respectively.Then call `X_lasso_df` at the bottom of the cell.\n",
        "6. Copy and paste the Lasso path code from the lecture notes into the second cell below. Adapt it so it works for `X_lasso_df` and `y1000`.\n",
        "\n",
        "\n",
        "In the Markdown cell below, answer the following questions:\n",
        "1. Characterize `X_sq`'s lasso path. Why was this behavior predictable?    Reference linear model 4 or the true DGP in your answer.\n",
        "2. Without checking, do you think a low or high value for alpha would be chosen by cross validation? To help you answer this question, think about what the true coefficients are and whether or not higher alphas bring the lasso coefficients closer to their true counterparts or farther away."
      ]
    },
    {
      "cell_type": "code",
      "id": "c250202b",
      "metadata": {
        "scrolled": false,
        "id": "c250202b"
      },
      "source": [
        "# Exercise 1g -- Steps 1-5\n",
        "from sklearn.datasets import make_regression\n",
        "def generate_data(n):\n",
        "    X, y = make_regression(n_samples=n, n_features=2, noise=0.1, random_state=42)\n",
        "    return X, y\n",
        "X1000, y1000 = generate_data(1000)"
      ],
      "outputs": [],
      "execution_count": null
    },
    {
      "cell_type": "code",
      "id": "4cfec5de",
      "metadata": {
        "scrolled": false,
        "id": "4cfec5de"
      },
      "source": [
        "# Exercise 1g -- Step 5 copy code here\n",
        "from sklearn.preprocessing import StandardScaler\n",
        "X1000_ext = np.hstack([np.ones((X1000.shape[0], 1)), X1000, X1000**2])\n",
        "print(X1000_ext.shape)\n",
        "scaler = StandardScaler()\n",
        "X1000_ext_scl = scaler.fit_transform(X1000_ext)\n",
        "print(X1000_ext_scl.shape)\n",
        "X1000_ext_scl[:, 0] = 1\n",
        "\n",
        "X_lasso_df = pd.DataFrame(X1000_ext_scl, columns=[\"intercept\", \"x1\", \"x2\", \"x1_sq\", \"x2_sq\"])\n",
        "X_lasso_df\n"
      ],
      "outputs": [],
      "execution_count": null
    },
    {
      "cell_type": "code",
      "source": [
        "import matplotlib.pyplot as plt\n",
        "from sklearn.linear_model import Lasso\n",
        "from sklearn.linear_model import lasso_path"
      ],
      "metadata": {
        "id": "HJeUsc78Z5Bw"
      },
      "id": "HJeUsc78Z5Bw",
      "execution_count": null,
      "outputs": []
    },
    {
      "cell_type": "code",
      "source": [
        "alphas, coefs, _ = lasso_path(X_lasso_df, y1000, n_alphas=100, alphas=None)\n",
        "plt.figure(figsize=(10, 6))\n",
        "plt.plot(alphas, coefs.T, marker='o')\n",
        "plt.xscale('log')\n",
        "plt.xlabel('Alpha')\n",
        "plt.ylabel('Coefficients')\n",
        "plt.title('Lasso Path')\n",
        "plt.axis('tight')\n",
        "plt.show()"
      ],
      "metadata": {
        "id": "9ePf_eYlZ7na"
      },
      "id": "9ePf_eYlZ7na",
      "execution_count": null,
      "outputs": []
    },
    {
      "cell_type": "markdown",
      "source": [
        "- The Lasso path for the x_sq term is likely to show a coefficient trajectory that shrinks towards zero as the regularization parameter (alpha) increases. This behavior is predictable because x_sq is a quadratic term, and Lasso tends to shrink the coefficients of less important features towards zero.\n",
        "- In the context of Lasso regression, a high value for alpha would typically be chosen by cross-validation if the true coefficients of the features are close to zero or if a simpler model is preferable."
      ],
      "metadata": {
        "id": "2TyS-rwMaA3k"
      },
      "id": "2TyS-rwMaA3k"
    }
  ],
  "metadata": {
    "kernelspec": {
      "display_name": "Python 3 (ipykernel)",
      "language": "python",
      "name": "python3"
    },
    "language_info": {
      "codemirror_mode": {
        "name": "ipython",
        "version": 3
      },
      "file_extension": ".py",
      "mimetype": "text/x-python",
      "name": "python",
      "nbconvert_exporter": "python",
      "pygments_lexer": "ipython3",
      "version": "3.9.15"
    },
    "colab": {
      "provenance": []
    }
  },
  "nbformat": 4,
  "nbformat_minor": 5
}