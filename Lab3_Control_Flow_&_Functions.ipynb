{
  "cells": [
    {
      "cell_type": "markdown",
      "id": "b557d379",
      "metadata": {
        "id": "b557d379"
      },
      "source": [
        "# Lab Assignment 3 -- Control Flow & Functions\n",
        "In this lab, you will complete a series of exercises related to the lecture material on control flow and functions."
      ]
    },
    {
      "cell_type": "markdown",
      "id": "f2d3f549",
      "metadata": {
        "id": "f2d3f549"
      },
      "source": [
        "## Exercise 1a -- Divisible by n\n",
        "Define a function called `divisible_by_n()` that takes two inputs:\n",
        "- a range\n",
        "- a single integer (the n)\n",
        "\n",
        "By default, the single integer argument should be equal to 2 if only one argument is provided.\n",
        "\n",
        "You function should return a list of all numbers in the input range that are divisible by `n`.\n",
        "\n",
        "Include a function description for your function using docstrings.\n",
        "\n",
        "**Hints**\n",
        "- You can use `%` (for modular arithmetic) or you can use `math.round()` to check if a number is divisible by 3.\n",
        "- Think about whether you should to use a `for` loop or a `while` loop."
      ]
    },
    {
      "cell_type": "code",
      "id": "a6113693",
      "metadata": {
        "id": "a6113693"
      },
      "source": [
        "# Exercise 1a\n",
        "def divisible_by_n(num_range, n):\n",
        "    divis_list = []\n",
        "    for num in num_range:\n",
        "        if num % n == 0:\n",
        "            divis_list.append(num)\n",
        "    return divis_list\n"
      ],
      "outputs": [],
      "execution_count": 2
    },
    {
      "cell_type": "code",
      "id": "c8c3a0a6",
      "metadata": {
        "colab": {
          "base_uri": "https://localhost:8080/"
        },
        "id": "c8c3a0a6",
        "outputId": "1a19d78e-688a-4281-90ee-b64e31b90802"
      },
      "source": [
        "print(divisible_by_n(range(100), 3))"
      ],
      "outputs": [
        {
          "output_type": "stream",
          "name": "stdout",
          "text": [
            "[0, 3, 6, 9, 12, 15, 18, 21, 24, 27, 30, 33, 36, 39, 42, 45, 48, 51, 54, 57, 60, 63, 66, 69, 72, 75, 78, 81, 84, 87, 90, 93, 96, 99]\n"
          ]
        }
      ],
      "execution_count": 3
    },
    {
      "cell_type": "markdown",
      "id": "d8d77670",
      "metadata": {
        "id": "d8d77670"
      },
      "source": [
        "## Exercise 1b -- Big Lists\n",
        "`%timeit` in the code below is what is known as an IPython magic function. IPython stands for Interactive Python and simply refers to a version of the Python (and other coding languages) environment that has more functionality than the standard one. In particular, this functionality makes Python easier to interact with if we want to explore data, test functions, etc. Jupyter is built on IPython.\n",
        "\n",
        "`%timeit` runs the code that follows it many times to get a sense of how long the code takes to run. Below, we use it to time how long `divide_by_n` takes on two ranges of different lengths.\n",
        "\n",
        "Run the cell and answer the following questions in a Markdown cell:\n",
        "1. Which range takes longer to get through? By how many times longer does it take? Does this make sense to you? What does it say about how the time of computation is affected by the length of the range?\n",
        "2. Would your function work with a list instead of a range? Why or why not?\n",
        "\n",
        "**Hint:** $\\mu s$ means microseconds"
      ]
    },
    {
      "cell_type": "code",
      "id": "3de20bc7",
      "metadata": {
        "colab": {
          "base_uri": "https://localhost:8080/"
        },
        "id": "3de20bc7",
        "outputId": "38286ae5-e1dd-4c3c-a378-fbf8870cfdc8"
      },
      "source": [
        "# Exercise 1b -- don't edit this cell\n",
        "%timeit divisible_by_n(range(1_001), 3)\n",
        "%timeit divisible_by_n(range(10_001), 3)"
      ],
      "outputs": [
        {
          "output_type": "stream",
          "name": "stdout",
          "text": [
            "97.2 µs ± 24.6 µs per loop (mean ± std. dev. of 7 runs, 10000 loops each)\n",
            "1.04 ms ± 251 µs per loop (mean ± std. dev. of 7 runs, 1000 loops each)\n"
          ]
        }
      ],
      "execution_count": 4
    },
    {
      "cell_type": "markdown",
      "id": "d6fd32c2",
      "metadata": {
        "id": "d6fd32c2"
      },
      "source": [
        "### Response to 1b"
      ]
    },
    {
      "cell_type": "markdown",
      "source": [
        "- \"range(10_001)\"takes longer time than \"range(1_001)\"\n",
        "- The computation time increases linearly with the length of the range.\n",
        "- The function would work with a list instead of a range because it operates on any iterable on Python."
      ],
      "metadata": {
        "id": "tMw362NAlKI0"
      },
      "id": "tMw362NAlKI0"
    },
    {
      "cell_type": "markdown",
      "id": "34af43ec",
      "metadata": {
        "id": "34af43ec"
      },
      "source": [
        "## Exercise 2 -- Function Objects vs. Function Calls\n",
        "`sum()` is a function that can take some iterables and return the sum of elements in that iterable. In the Markdown cell below, answer the following questions.\n",
        "1. What types is `sum`?\n",
        "2. What type is `sum([1,2,3])`? How about `sum([1,2.0,3])`?\n",
        "3. Are the types of these three objects the same or different? Why?\n",
        "4. What is the type of `print(\"hello\")`? Why?\n"
      ]
    },
    {
      "cell_type": "code",
      "id": "ce7e11cd",
      "metadata": {
        "id": "ce7e11cd",
        "colab": {
          "base_uri": "https://localhost:8080/"
        },
        "outputId": "b774b2cc-8195-4688-f1f8-9637cb4b50b3"
      },
      "source": [
        "# If needed, you can call the type function on these objects to help answer the question\n",
        "print(type(sum))\n",
        "print(type(sum([1,2,3])))\n",
        "print(type(sum([1,2.0,3])))\n",
        "print(type(print(\"hello\")))"
      ],
      "outputs": [
        {
          "output_type": "stream",
          "name": "stdout",
          "text": [
            "<class 'builtin_function_or_method'>\n",
            "<class 'int'>\n",
            "<class 'float'>\n",
            "hello\n",
            "<class 'NoneType'>\n"
          ]
        }
      ],
      "execution_count": 5
    },
    {
      "cell_type": "markdown",
      "id": "708ca789",
      "metadata": {
        "id": "708ca789"
      },
      "source": [
        "### Reponse to Exercise 2"
      ]
    },
    {
      "cell_type": "markdown",
      "source": [
        "- \"sum\" is a built-in function, and its type is \"<class 'nuiltin_function_or_method'>\"\n",
        "- The type of \"sum([1,2,3])\" is '<class 'int'>'\n",
        "- The type of \"sum([1,2.0,3])\" is '<class 'float'>\n",
        "- These types are different because the presence of a float in the list causes the entire summation to be performed in a floating-point arithmetic, leading in a float.\n",
        "- The type of \"print(\"hello\")\" is '<class 'NoneType'>'\n"
      ],
      "metadata": {
        "id": "VW9JHkI6xzFN"
      },
      "id": "VW9JHkI6xzFN"
    },
    {
      "cell_type": "markdown",
      "id": "18d0aa8e",
      "metadata": {
        "id": "18d0aa8e"
      },
      "source": [
        "# Exercise 3\n",
        "Exercise 3 is a series of six questions\n",
        "## Exercise 3a -- Factorial Function\n",
        "The factorial of an integer n (denoted n! in mathematics) is equal to itself multipled by all of the integers smaller than n. That is\n",
        "$$\n",
        "n! = n * (n-1) * (n-2) *...* 2 * 1\n",
        "$$\n",
        "where $0!$ is defined to be 1.\n",
        "\n",
        "The module `math` already has a factorial function, but you are going to build your own. In the cell below, define a function called `custom_factorial` that takes an integer as an input and returns the factorial of that integer. You must use a loop to calculate the factorial."
      ]
    },
    {
      "cell_type": "code",
      "id": "a6ae690f",
      "metadata": {
        "id": "a6ae690f",
        "colab": {
          "base_uri": "https://localhost:8080/"
        },
        "outputId": "24e336db-677b-4cdc-e547-8a2bef12d2c4"
      },
      "source": [
        "# Exercise 3a Code\n",
        "def custom_factorial(n):\n",
        "    out = 1\n",
        "    for num in range(1,n+1):\n",
        "        out = out * num\n",
        "    return out\n",
        "print(custom_factorial(5))"
      ],
      "outputs": [
        {
          "output_type": "stream",
          "name": "stdout",
          "text": [
            "120\n"
          ]
        }
      ],
      "execution_count": 6
    },
    {
      "cell_type": "markdown",
      "id": "6a76366f",
      "metadata": {
        "id": "6a76366f"
      },
      "source": [
        "## Exercise 3b -- Checking Your Work\n",
        "Using the `math` module's `factorial` function and a comparison operator, check that your function works for 10!.\n"
      ]
    },
    {
      "cell_type": "code",
      "id": "f52c5077",
      "metadata": {
        "colab": {
          "base_uri": "https://localhost:8080/"
        },
        "id": "f52c5077",
        "outputId": "6ab5c75c-4a24-4d97-ed41-6ca08eaf0619"
      },
      "source": [
        "# Exercise 3b Code\n",
        "import math\n",
        "math.factorial(10) == custom_factorial(10)"
      ],
      "outputs": [
        {
          "output_type": "execute_result",
          "data": {
            "text/plain": [
              "True"
            ]
          },
          "metadata": {},
          "execution_count": 7
        }
      ],
      "execution_count": 7
    },
    {
      "cell_type": "markdown",
      "id": "d6933761",
      "metadata": {
        "id": "d6933761"
      },
      "source": [
        "## Exercise 3c -- Nondecreasing Functions\n",
        "A function $f$ is nondecreasing when $f(x) \\geq f(y)$  if and only if $x \\geq y$. Using `matplotlib.pyplot`, and your function plot the factorial function for $n = 0, 1, 2, 3, ..., 20$. You can plot a scatter plot or a line plot.\n",
        "\n",
        "In the Markdown cell below, give another example of a nondecreasing function.\n",
        "\n",
        "**Hint:** Use a a list comprehension."
      ]
    },
    {
      "cell_type": "code",
      "id": "297f61d9",
      "metadata": {
        "id": "297f61d9",
        "colab": {
          "base_uri": "https://localhost:8080/",
          "height": 463
        },
        "outputId": "b2514326-09c5-429a-a3ae-8d5833af4e5c"
      },
      "source": [
        "# Exercise 3c Code\n",
        "import matplotlib.pyplot as plt\n",
        "x_coordinates = range(0,21)\n",
        "fact_values = [custom_factorial(x) for x in x_coordinates]\n",
        "plt.plot(x_coordinates, fact_values)"
      ],
      "outputs": [
        {
          "output_type": "execute_result",
          "data": {
            "text/plain": [
              "[<matplotlib.lines.Line2D at 0x7de85824f820>]"
            ]
          },
          "metadata": {},
          "execution_count": 8
        },
        {
          "output_type": "display_data",
          "data": {
            "text/plain": [
              "<Figure size 640x480 with 1 Axes>"
            ],
            "image/png": "[encoded data removed]"
          },
          "metadata": {}
        }
      ],
      "execution_count": 8
    },
    {
      "cell_type": "markdown",
      "id": "a97e10da",
      "metadata": {
        "id": "a97e10da"
      },
      "source": [
        "### Response to Exercise 3c"
      ]
    },
    {
      "cell_type": "markdown",
      "source": [
        "numbers = [1,2,3,4,5]\n",
        "cumulative_sum = [sum(numbers[:i+1] for i in range(len(numbers))]\n",
        "print(cumualtive_sum)\n"
      ],
      "metadata": {
        "id": "N2vuIy9833IL"
      },
      "id": "N2vuIy9833IL"
    },
    {
      "cell_type": "markdown",
      "id": "9f9b870c",
      "metadata": {
        "id": "9f9b870c"
      },
      "source": [
        "## Exercise 3d -- Finding the Smallest Integer\n",
        "For a generic nondecreasing function $f$, we might be interested in finding the smallest integer $n$ such that $f(n)$ is greater than or equal to some constant $c$. In the lecture we did this with $f(n) = n^2$, which is nondecreasing for $n \\geq 0$, and $c = 12345$.\n",
        "\n",
        "Now, define a function calld `find_smallest_int` that takes a starting value `start`, a function `f`, and a constant `c` as inputs. Recognizing that these correspond to the values above, have your function return two values: the smallest integer $n$ such that $f(n) \\geq c$ and the value of $f(n)$ for that integer.\n",
        "\n",
        "**Hint:** If you're stuck, try looking at the lecture."
      ]
    },
    {
      "cell_type": "code",
      "id": "025521ae",
      "metadata": {
        "id": "025521ae"
      },
      "source": [
        "# Exercise 3d Code\n",
        "def find_smallest_int(start, f, c):\n",
        "    while f(start) < c:\n",
        "        start += 1\n",
        "\n",
        "    return start, f(start)"
      ],
      "outputs": [],
      "execution_count": 9
    },
    {
      "cell_type": "code",
      "id": "6622a652",
      "metadata": {
        "id": "6622a652",
        "colab": {
          "base_uri": "https://localhost:8080/"
        },
        "outputId": "330e91cd-f41b-4bbf-ee96-792b4750dcac"
      },
      "source": [
        "find_smallest_int(10, lambda x: x** 2, 400)"
      ],
      "outputs": [
        {
          "output_type": "execute_result",
          "data": {
            "text/plain": [
              "(20, 400)"
            ]
          },
          "metadata": {},
          "execution_count": 10
        }
      ],
      "execution_count": 10
    },
    {
      "cell_type": "markdown",
      "id": "c95a31db",
      "metadata": {
        "id": "c95a31db"
      },
      "source": [
        "## Exercise 3e -- Plugging in Your Function\n",
        "Now, use `find_smallest_int` and `custom_factorial` to find the smallest $n$ such that $n! \\geq 12,345$. Use a starting value of 0. Check your answer as we did in the lecture.\n"
      ]
    },
    {
      "cell_type": "code",
      "id": "fbb8967e",
      "metadata": {
        "id": "fbb8967e",
        "colab": {
          "base_uri": "https://localhost:8080/"
        },
        "outputId": "4adc81a7-4fc2-40d1-9be0-e8d96a9d5ecd"
      },
      "source": [
        "# Exercise 3e Code\n",
        "find_smallest_int(0, custom_factorial, 12345)"
      ],
      "outputs": [
        {
          "output_type": "execute_result",
          "data": {
            "text/plain": [
              "(8, 40320)"
            ]
          },
          "metadata": {},
          "execution_count": 11
        }
      ],
      "execution_count": 11
    },
    {
      "cell_type": "markdown",
      "id": "c91fbc7a",
      "metadata": {
        "id": "c91fbc7a"
      },
      "source": [
        "## Exercise 3f -- Increasing n\n",
        "Now we wil time the speed and output of `find_smallest_int` with smaller and larger values of $c$ and two different functions: `custom_factorial` and and a lambda function that sqaures a single input.\n",
        "\n",
        "Answer the folowing questions in the Markdown cell below:\n",
        "1. Which function takes longer to run for a fixed value of $c$. Why do you think this is?\n",
        "2. What is the ratio between runtimes when fixing the function and varying $c$ from 1,000 to 10,000. How about 10,000 to 100,000? Compare this ratio to the ratio of smallest integers for those runs. Are they similar? Why or why not?  You will want to write some code to compare these values.\n"
      ]
    },
    {
      "cell_type": "code",
      "id": "a6081adb",
      "metadata": {
        "id": "a6081adb",
        "colab": {
          "base_uri": "https://localhost:8080/"
        },
        "outputId": "0f17f746-66e7-428b-a462-b356014c2c12"
      },
      "source": [
        "# Exercise 1b -- don't edit this cell\n",
        "%timeit find_smallest_int(0, custom_factorial, 1_000)\n",
        "%timeit find_smallest_int(0, custom_factorial, 10_000)\n",
        "%timeit find_smallest_int(0, custom_factorial, 100_000)\n",
        "\n",
        "\n",
        "\n",
        "%timeit find_smallest_int(0, lambda x: x ** 2, 1_000)\n",
        "%timeit find_smallest_int(0, lambda x: x ** 2, 10_000)\n",
        "%timeit find_smallest_int(0, lambda x: x ** 2, 100_000)"
      ],
      "outputs": [
        {
          "output_type": "stream",
          "name": "stdout",
          "text": [
            "5.51 µs ± 1.52 µs per loop (mean ± std. dev. of 7 runs, 100000 loops each)\n",
            "4.95 µs ± 34 ns per loop (mean ± std. dev. of 7 runs, 100000 loops each)\n",
            "6.4 µs ± 1.61 µs per loop (mean ± std. dev. of 7 runs, 100000 loops each)\n",
            "20.3 µs ± 586 ns per loop (mean ± std. dev. of 7 runs, 10000 loops each)\n",
            "37.2 µs ± 616 ns per loop (mean ± std. dev. of 7 runs, 10000 loops each)\n",
            "133 µs ± 27.3 µs per loop (mean ± std. dev. of 7 runs, 10000 loops each)\n"
          ]
        }
      ],
      "execution_count": 19
    },
    {
      "cell_type": "code",
      "id": "5e96be8e",
      "metadata": {
        "scrolled": false,
        "id": "5e96be8e",
        "colab": {
          "base_uri": "https://localhost:8080/"
        },
        "outputId": "e5d3fc12-6cee-4a68-ba6b-261a6b7f6b73"
      },
      "source": [
        "# Compare ratios here\n",
        "import math\n",
        "import timeit\n",
        "\n",
        "def custom_factorial(n):\n",
        "    return math.factorial(n)\n",
        "\n",
        "square_function = lambda x: x * x\n",
        "\n",
        "def find_smallest_int(start, f, c):\n",
        "    n = start\n",
        "    while f(n) <= c:\n",
        "        n += 1\n",
        "    return n\n",
        "def measure_timeit(func, c, number=1):\n",
        "    return timeit.timeit(lambda: func(0, c), number=number)\n",
        "\n",
        "# Time measurements for custom_factorial\n",
        "time_custom_1000 = measure_timeit(lambda start, c: find_smallest_int(start, custom_factorial, c), 1000)\n",
        "time_custom_10000 = measure_timeit(lambda start, c: find_smallest_int(start, custom_factorial, c), 10000)\n",
        "time_custom_100000 = measure_timeit(lambda start, c: find_smallest_int(start, custom_factorial, c), 100000)\n",
        "\n",
        "# Time measurements for square_function\n",
        "time_square_1000 = measure_timeit(lambda start, c: find_smallest_int(start, square_function, c), 1000)\n",
        "time_square_10000 = measure_timeit(lambda start, c: find_smallest_int(start, square_function, c), 10000)\n",
        "time_square_100000 = measure_timeit(lambda start, c: find_smallest_int(start, square_function, c), 100000)\n",
        "\n",
        "print(time_custom_1000, time_custom_10000, time_custom_100000)\n",
        "print(time_square_1000, time_square_10000, time_square_100000)\n",
        "\n",
        "ratio_custom_1000_10000 = time_custom_10000 / time_custom_1000\n",
        "ratio_custom_10000_100000 = time_custom_100000 / time_custom_10000\n",
        "\n",
        "ratio_square_1000_10000 = time_square_10000 / time_square_1000\n",
        "ratio_square_10000_100000 = time_square_100000 / time_square_10000\n",
        "\n",
        "print(\"Ratios for custom_factorial:\", ratio_custom_1000_10000, ratio_custom_10000_100000)\n",
        "print(\"Ratios for square_function:\", ratio_square_1000_10000, ratio_square_10000_100000)\n"
      ],
      "outputs": [
        {
          "output_type": "stream",
          "name": "stdout",
          "text": [
            "1.208200046676211e-05 7.25900008546887e-06 7.667999852856155e-06\n",
            "1.2025000614812598e-05 2.8854999982286245e-05 7.67739993534633e-05\n",
            "Ratios for custom_factorial: 0.6008111078491151 1.0563438163068801\n",
            "Ratios for square_function: 2.3995840754255076 2.6606827031916125\n"
          ]
        }
      ],
      "execution_count": 21
    },
    {
      "cell_type": "markdown",
      "source": [
        "- The lambda function that squares the input takes longer to run for larger values of c. This is because the growth rate of the square function is much slower compared to the factorial function. As a result, it requires many more iterations to reach or exceed the threshold c. The factorial function grows extremely fast, so it quickly surpasses the threshold with fewer iterations.\n",
        "- The ratio of runtimes for the lambda function and the ratio of smallest integers are similar because the number of iterations (and thus the runtime) is directly related to how quickly the function grows relative to the threshold c. For the factorial function, the ratios are not as similar because the function grows extremely fast, resulting in minimal changes in the smallest integers even for large changes in c."
      ],
      "metadata": {
        "id": "A5NZjnyP9xwQ"
      },
      "id": "A5NZjnyP9xwQ"
    },
    {
      "cell_type": "markdown",
      "id": "0429212c",
      "metadata": {
        "id": "0429212c"
      },
      "source": [
        "### Response to Exercise 3f"
      ]
    },
    {
      "cell_type": "markdown",
      "id": "2987b626",
      "metadata": {
        "id": "2987b626"
      },
      "source": [
        "## Exercise 4 -- Fibonacci Sequence\n",
        "The Fibonacci Sequence is an infinite sequence of integers $X_0, X_1, X_2, X_3, ...$ defined as below\n",
        "\n",
        "$$\n",
        "X_0 = 0\n",
        "$$\n",
        "$$\n",
        "X_1 = 1\n",
        "$$\n",
        "$$\n",
        "\\hspace{3.66cm}X_t = X_{t-1} + X_{t-2} \\text{ for } t \\geq 2\n",
        "$$\n",
        "\n",
        "Below define a function called `fibo_seq` that takes $t$ as an input and returns $X_t$, the $t$-th element of the Fibonacci Sequence.\n"
      ]
    },
    {
      "cell_type": "code",
      "id": "af4f720b",
      "metadata": {
        "id": "af4f720b"
      },
      "source": [
        "## Exercise 4 Code\n",
        "def fibo_seq(t):\n",
        "    x = 0\n",
        "    if t == 0:\n",
        "        return 0\n",
        "    if t == 1:\n",
        "        return 1\n",
        "    xtm2 = 0\n",
        "    xtm1 = 1\n",
        "    for t in range(2, t+1):\n",
        "        x = xtm1 + xtm2\n",
        "        xtm2 = xtm1\n",
        "        xtm1 = x\n",
        "\n",
        "    return x\n",
        "\n"
      ],
      "outputs": [],
      "execution_count": 14
    },
    {
      "cell_type": "code",
      "id": "76c3597e",
      "metadata": {
        "id": "76c3597e"
      },
      "source": [],
      "outputs": [],
      "execution_count": 14
    },
    {
      "cell_type": "markdown",
      "id": "10cd6fbc",
      "metadata": {
        "id": "10cd6fbc"
      },
      "source": [
        "## Exercise 5 -- Palindrome Detector\n",
        "A palindrome is a word or phrase that is spelled the same backwards as it is forwards (ignoring spaces). Create a function called `is_palindrome` that takes a list of strings and returns a list of Boolean variables that indicate whether the respective string is a palindrome or not. **Ignore capitalization and spaces**.\n",
        "\n",
        "When you're ready, test your function out on the cell below where `palindromes` and `nonpalindromes` are defined. Your function should return `[True, True, True, True, True]` for the former and `[False, False, False]` for the latter.\n",
        "\n",
        "\n",
        "**Hints**\n",
        "- A method will help you get rid of the white space\n",
        "- Look up on Google how to reverse a string as the reverse method only exists for lists"
      ]
    },
    {
      "cell_type": "code",
      "id": "fa2d5b1a",
      "metadata": {
        "id": "fa2d5b1a"
      },
      "source": [
        "# Exercise 5 -- create is_palindrome function here\n",
        "def is_palindrome(phrases):\n",
        "  results = []\n",
        "  for phrase in phrases:\n",
        "    cleaned_phrase = phrase.replace(\" \", \"\").lower()\n",
        "    if cleaned_phrase == cleaned_phrase[::-1]:\n",
        "      results.append(True)\n",
        "    else:\n",
        "      results.append(False)\n",
        "  return results"
      ],
      "outputs": [],
      "execution_count": 22
    },
    {
      "cell_type": "code",
      "id": "2334af93",
      "metadata": {
        "id": "2334af93",
        "colab": {
          "base_uri": "https://localhost:8080/"
        },
        "outputId": "5e1e5d18-83e7-49a6-9741-f35dadf83046"
      },
      "source": [
        "# Run this cell when you're ready -- do not edit it\n",
        "palindromes = [\"Radar\", \"Taco cat\", \"Stressed Desserts\", \"no Lemon no melon\", \"!??!!??!\"]\n",
        "nonpalindromes = [\"Hello World\", \"VSP\", \"Vancouver Canada\"]\n",
        "\n",
        "print(is_palindrome(palindromes))\n",
        "is_palindrome(nonpalindromes)"
      ],
      "outputs": [
        {
          "output_type": "stream",
          "name": "stdout",
          "text": [
            "[True, True, True, True, True]\n"
          ]
        },
        {
          "output_type": "execute_result",
          "data": {
            "text/plain": [
              "[False, False, False]"
            ]
          },
          "metadata": {},
          "execution_count": 23
        }
      ],
      "execution_count": 23
    },
    {
      "cell_type": "markdown",
      "id": "86aa87b3",
      "metadata": {
        "id": "86aa87b3"
      },
      "source": [
        "## Exercise 6 -- Comparison Operators & List Comprehensions\n",
        "Using `num_list` and list comprehensions, create three lists that correspond to the elements in num_list:\n",
        "1. `equal_list` whose elements should be true if the corresponding element in `num_list` is equal to 0 and false otherwise.\n",
        "2. `greater_list` whose elements should be true if the corresponding element in `num_list` is strictly greater than 0 and false otherwise.\n",
        "3. `lesser_list` whose elements should be true if the corresponding element in `num_list` is strictly less than 0 and false otherwise.\n",
        "4. Finally, using the three lists you generated, list comprehensions, and `zip()`, create `true_list` a list of length 7 where every element is true.\n",
        "\n",
        "**Hints for 4:**\n",
        "- `zip` can be used on more than two lists\n",
        "- use `or` within the list comprehension"
      ]
    },
    {
      "cell_type": "code",
      "id": "7a770f90",
      "metadata": {
        "id": "7a770f90",
        "colab": {
          "base_uri": "https://localhost:8080/"
        },
        "outputId": "585bb347-69d0-4ec0-cc44-9055d3704f47"
      },
      "source": [
        "# Exercise 6 Code\n",
        "# Don't edit the line below\n",
        "num_list = [-5, -3, -1, 0, 1, 3, 5]\n",
        "\n",
        "# your code below here\n",
        "equal_list = [num == 0 for num in num_list]\n",
        "greater_list = [num > 0 for num in num_list]\n",
        "lesser_list = [num < 0 for num in num_list]\n",
        "print(\"equal_list:\", equal_list)\n",
        "print(\"greater_list:\", greater_list)\n",
        "print(\"lesser_list:\", lesser_list)\n",
        "true_list = [eq or gt or lt for eq, gt, lt in zip(equal_list, greater_list, lesser_list)]\n",
        "print(\"true_list:\", true_list)\n",
        "\n",
        "\n"
      ],
      "outputs": [
        {
          "output_type": "stream",
          "name": "stdout",
          "text": [
            "equal_list: [False, False, False, True, False, False, False]\n",
            "greater_list: [False, False, False, False, True, True, True]\n",
            "lesser_list: [True, True, True, False, False, False, False]\n",
            "true_list: [True, True, True, True, True, True, True]\n"
          ]
        }
      ],
      "execution_count": 24
    },
    {
      "cell_type": "markdown",
      "id": "c8b7d7b3",
      "metadata": {
        "id": "c8b7d7b3"
      },
      "source": [
        "## Exercise 7 -- List Comprehensions and Very Basic Plotting\n",
        "Complete the following steps in the cells below:\n",
        "1. Import the `math` module and give it an alias of `mt`.\n",
        "2. Import the `matplotlib.pyplot` module and give it an alias of `plt`.\n",
        "3. Create a variable named `num_range` and set it equal to a range of numbers from 0 to 1000 (including 1000).\n",
        "4. Using `num_range` and a list comprehension, create a list called `sine_list` that is equal to `sin((pi/100) * x)` for every `x` in the range `num_range`. (**Hint:** sin and pi are objects from the math library.)\n",
        "5. Finally, using `plt`, `num_range`, and `sine_list`, generate a line plot."
      ]
    },
    {
      "cell_type": "code",
      "id": "0f6bfae5",
      "metadata": {
        "id": "0f6bfae5"
      },
      "source": [
        "# Exercise 7 Code"
      ],
      "outputs": [],
      "execution_count": null
    },
    {
      "cell_type": "code",
      "source": [
        "import math as mt\n",
        "import matplotlib.pyplot as plt\n",
        "num_range = range(0, 1001)\n",
        "sine_list = [mt.sin((mt.pi/100) * x) for x in num_range]\n",
        "plt.plot(num_range, sine_list)\n",
        "plt.title(\"Sine Wave\")\n",
        "plt.xlabel(\"x\")\n",
        "plt.ylable(\"sin((π/100) * x)\")\n",
        "plt.show()"
      ],
      "metadata": {
        "colab": {
          "base_uri": "https://localhost:8080/",
          "height": 653
        },
        "id": "GRqni5sRFp3X",
        "outputId": "f3956606-3cec-4275-d95d-4dd415bcfdbd"
      },
      "id": "GRqni5sRFp3X",
      "execution_count": 26,
      "outputs": [
        {
          "output_type": "error",
          "ename": "AttributeError",
          "evalue": "module 'matplotlib.pyplot' has no attribute 'ylable'",
          "traceback": [
            "\u001b[0;31m---------------------------------------------------------------------------\u001b[0m",
            "\u001b[0;31mAttributeError\u001b[0m                            Traceback (most recent call last)",
            "\u001b[0;32m<ipython-input-26-db8105057947>\u001b[0m in \u001b[0;36m<cell line: 8>\u001b[0;34m()\u001b[0m\n\u001b[1;32m      6\u001b[0m \u001b[0mplt\u001b[0m\u001b[0;34m.\u001b[0m\u001b[0mtitle\u001b[0m\u001b[0;34m(\u001b[0m\u001b[0;34m\"Sine Wave\"\u001b[0m\u001b[0;34m)\u001b[0m\u001b[0;34m\u001b[0m\u001b[0;34m\u001b[0m\u001b[0m\n\u001b[1;32m      7\u001b[0m \u001b[0mplt\u001b[0m\u001b[0;34m.\u001b[0m\u001b[0mxlabel\u001b[0m\u001b[0;34m(\u001b[0m\u001b[0;34m\"x\"\u001b[0m\u001b[0;34m)\u001b[0m\u001b[0;34m\u001b[0m\u001b[0;34m\u001b[0m\u001b[0m\n\u001b[0;32m----> 8\u001b[0;31m \u001b[0mplt\u001b[0m\u001b[0;34m.\u001b[0m\u001b[0mylable\u001b[0m\u001b[0;34m(\u001b[0m\u001b[0;34m\"sin((π/100) * x)\"\u001b[0m\u001b[0;34m)\u001b[0m\u001b[0;34m\u001b[0m\u001b[0;34m\u001b[0m\u001b[0m\n\u001b[0m\u001b[1;32m      9\u001b[0m \u001b[0mplt\u001b[0m\u001b[0;34m.\u001b[0m\u001b[0mshow\u001b[0m\u001b[0;34m(\u001b[0m\u001b[0;34m)\u001b[0m\u001b[0;34m\u001b[0m\u001b[0;34m\u001b[0m\u001b[0m\n",
            "\u001b[0;31mAttributeError\u001b[0m: module 'matplotlib.pyplot' has no attribute 'ylable'"
          ]
        },
        {
          "output_type": "display_data",
          "data": {
            "text/plain": [
              "<Figure size 640x480 with 1 Axes>"
            ],
            "image/png": "[encoded data removed]"
          },
          "metadata": {}
        }
      ]
    }
  ],
  "metadata": {
    "kernelspec": {
      "display_name": "Python 3 (ipykernel)",
      "language": "python",
      "name": "python3"
    },
    "language_info": {
      "codemirror_mode": {
        "name": "ipython",
        "version": 3
      },
      "file_extension": ".py",
      "mimetype": "text/x-python",
      "name": "python",
      "nbconvert_exporter": "python",
      "pygments_lexer": "ipython3",
      "version": "3.9.15"
    },
    "colab": {
      "provenance": []
    }
  },
  "nbformat": 4,
  "nbformat_minor": 5
}