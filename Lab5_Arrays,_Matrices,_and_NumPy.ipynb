{
  "cells": [
    {
      "cell_type": "markdown",
      "id": "aa4602c3",
      "metadata": {
        "id": "aa4602c3"
      },
      "source": [
        "# Lab Assignment 4 -- Arrays, Matrices, and NumPy\n",
        "In this lab, you will complete a series of exercises related to the lecture material on arrays, matrices, and NumPy, You will have to do some calculations on a piece of paper or tablet -- submit either pictures or a PDF of your work with this Notebook."
      ]
    },
    {
      "cell_type": "markdown",
      "id": "36d604de",
      "metadata": {
        "id": "36d604de"
      },
      "source": [
        "Throughout this assignment, we will refer to the following arrays.\n",
        "$$\n",
        "A = \\left[\\begin{array}{ccc}\n",
        "1 & 5 & 3\\\\ 5 & -4 & 2\\\\ 3 & 2 & 1\n",
        "\\end{array}\\right], B = \\left[\\begin{array}{cccc}\n",
        "0 & 1 & 3 & 9\\\\ 6 & -1 & -2 & -9\\\\ 2 & 5 & 1 &2\n",
        "\\end{array}\\right], C = \\left[\\begin{array}{ccc}\n",
        "1 & 5 & -13\\\\ 7 & -7 & 7\\\\ 2 & -3 & 1 \\\\ 0 & 7 & -6\n",
        "\\end{array}\\right] \\\\ d = \\left[\\begin{array}{c}\n",
        "1 \\\\ -3\\\\ 2\n",
        "\\end{array}\\right], f= \\left[\\begin{array}{c}\n",
        "-2 \\\\ 4\\\\ 1\n",
        "\\end{array}\\right],g = \\left[\\begin{array}{c}\n",
        "-1 \\\\ 10 \\\\ -1\\\\ 5\n",
        "\\end{array}\\right]\n",
        "$$"
      ]
    },
    {
      "cell_type": "markdown",
      "id": "6814b00c",
      "metadata": {
        "id": "6814b00c"
      },
      "source": [
        "## Exercise 1 -- Defining Arrays\n",
        "Import `numpy` with the alias np and define the matrices above manually in the cell below. Make sure you define these carefully as subsequent responses will be incorrect otherwise.\n",
        "\n",
        "<span style=\"color: red;\"> **Be Careful!**</span>  After defining these objects, don't reassign these variable names to a different object for the rest of the assignment."
      ]
    },
    {
      "cell_type": "code",
      "execution_count": 4,
      "id": "1e9acd73",
      "metadata": {
        "id": "1e9acd73",
        "colab": {
          "base_uri": "https://localhost:8080/"
        },
        "outputId": "ca2a0262-81e1-451e-a658-d6c29a82e38e"
      },
      "outputs": [
        {
          "output_type": "stream",
          "name": "stdout",
          "text": [
            "A:\n",
            " [[ 1  5  3]\n",
            " [ 5 -4  2]\n",
            " [ 3  2  1]]\n",
            "B:\n",
            " [[ 0  1  3  9]\n",
            " [ 6 -1 -2 -9]\n",
            " [ 2  5  1  2]]\n",
            "C:\n",
            " [[  1   5 -13]\n",
            " [  7  -7   7]\n",
            " [  2  -3   1]\n",
            " [  0   7  -6]]\n",
            "d:\n",
            " [[ 1]\n",
            " [-3]\n",
            " [ 2]]\n",
            "f:\n",
            " [[-2]\n",
            " [ 4]\n",
            " [ 1]]\n",
            "g:\n",
            " [[-1]\n",
            " [10]\n",
            " [-1]\n",
            " [ 5]]\n"
          ]
        }
      ],
      "source": [
        "# Exercise 1 code\n",
        "import numpy as np\n",
        "A = np.array([[1, 5, 3],\n",
        "             [5, -4, 2],\n",
        "             [3, 2, 1]])\n",
        "B = np.array([[0, 1, 3, 9],\n",
        "          [6, -1, -2, -9],\n",
        "             [2, 5, 1, 2]])\n",
        "C = np.array([[1, 5, -13],\n",
        "             [7, -7, 7],\n",
        "             [2, -3, 1],\n",
        "             [0, 7, -6]])\n",
        "d = np.array([[1],\n",
        "           [-3],\n",
        "           [2]])\n",
        "f = np.array([[-2],\n",
        "           [4],\n",
        "           [1]])\n",
        "g = np.array([[-1],\n",
        "           [10],\n",
        "           [-1],\n",
        "           [5]])\n",
        "print(\"A:\\n\", A)\n",
        "print(\"B:\\n\", B)\n",
        "print(\"C:\\n\", C)\n",
        "print(\"d:\\n\", d)\n",
        "print(\"f:\\n\", f)\n",
        "print(\"g:\\n\", g)"
      ]
    },
    {
      "cell_type": "markdown",
      "id": "445dc79e",
      "metadata": {
        "id": "445dc79e"
      },
      "source": [
        "##  Exercise 2 -- Array Addition\n",
        "Is the operation $d + f$ possible? What about $d + g$? Why or why not? Answer in the markdown cell below. For each possible operation, print its result in the code cell below.\n"
      ]
    },
    {
      "cell_type": "code",
      "execution_count": 2,
      "id": "36bb39c3",
      "metadata": {
        "id": "36bb39c3",
        "colab": {
          "base_uri": "https://localhost:8080/",
          "height": 233
        },
        "outputId": "ff1e68a5-1a56-4266-a23d-7fcc199aa4a3"
      },
      "outputs": [
        {
          "output_type": "stream",
          "name": "stdout",
          "text": [
            "[[-1]\n",
            " [ 1]\n",
            " [ 3]]\n"
          ]
        },
        {
          "output_type": "error",
          "ename": "ValueError",
          "evalue": "operands could not be broadcast together with shapes (3,1) (4,1) ",
          "traceback": [
            "\u001b[0;31m---------------------------------------------------------------------------\u001b[0m",
            "\u001b[0;31mValueError\u001b[0m                                Traceback (most recent call last)",
            "\u001b[0;32m<ipython-input-2-d8367b4187bd>\u001b[0m in \u001b[0;36m<cell line: 3>\u001b[0;34m()\u001b[0m\n\u001b[1;32m      1\u001b[0m \u001b[0;31m# Exercise 2 code\u001b[0m\u001b[0;34m\u001b[0m\u001b[0;34m\u001b[0m\u001b[0m\n\u001b[1;32m      2\u001b[0m \u001b[0mprint\u001b[0m\u001b[0;34m(\u001b[0m\u001b[0md\u001b[0m \u001b[0;34m+\u001b[0m \u001b[0mf\u001b[0m\u001b[0;34m)\u001b[0m\u001b[0;34m\u001b[0m\u001b[0;34m\u001b[0m\u001b[0m\n\u001b[0;32m----> 3\u001b[0;31m \u001b[0mprint\u001b[0m\u001b[0;34m(\u001b[0m\u001b[0md\u001b[0m \u001b[0;34m+\u001b[0m \u001b[0mg\u001b[0m\u001b[0;34m)\u001b[0m\u001b[0;34m\u001b[0m\u001b[0;34m\u001b[0m\u001b[0m\n\u001b[0m",
            "\u001b[0;31mValueError\u001b[0m: operands could not be broadcast together with shapes (3,1) (4,1) "
          ]
        }
      ],
      "source": [
        "# Exercise 2 code\n",
        "print(d + f)\n",
        "print(d + g)"
      ]
    },
    {
      "cell_type": "markdown",
      "id": "8dc481c1",
      "metadata": {
        "id": "8dc481c1"
      },
      "source": [
        "### Response to Exercise 2"
      ]
    },
    {
      "cell_type": "markdown",
      "source": [
        "- The operation d + f is possible.\n",
        "- The operation d + g is not possible because the vectors d and g have different dimentsions."
      ],
      "metadata": {
        "id": "A7YyybtRzfBf"
      },
      "id": "A7YyybtRzfBf"
    },
    {
      "cell_type": "markdown",
      "id": "7cffe2ea",
      "metadata": {
        "id": "7cffe2ea"
      },
      "source": [
        "## Exercise 3 -- Dot Product\n",
        "On a piece of paper or tablet, **legibly** calculate the dot product of $d$ and $f$. Label your response as \"Solution to Exercise 3\". Show your work as we did in lecture. Check your solution by calling `np.dot()` in the cell below."
      ]
    },
    {
      "cell_type": "code",
      "execution_count": 3,
      "id": "f8328d5e",
      "metadata": {
        "id": "f8328d5e",
        "colab": {
          "base_uri": "https://localhost:8080/",
          "height": 180
        },
        "outputId": "fdb175d1-059b-4387-9be5-e22c70a2e1a7"
      },
      "outputs": [
        {
          "output_type": "error",
          "ename": "ValueError",
          "evalue": "shapes (3,1) and (3,1) not aligned: 1 (dim 1) != 3 (dim 0)",
          "traceback": [
            "\u001b[0;31m---------------------------------------------------------------------------\u001b[0m",
            "\u001b[0;31mValueError\u001b[0m                                Traceback (most recent call last)",
            "\u001b[0;32m<ipython-input-3-2c492584a53a>\u001b[0m in \u001b[0;36m<cell line: 2>\u001b[0;34m()\u001b[0m\n\u001b[1;32m      1\u001b[0m \u001b[0;31m# Exercise 3 code\u001b[0m\u001b[0;34m\u001b[0m\u001b[0;34m\u001b[0m\u001b[0m\n\u001b[0;32m----> 2\u001b[0;31m \u001b[0mdot_product\u001b[0m \u001b[0;34m=\u001b[0m \u001b[0mnp\u001b[0m\u001b[0;34m.\u001b[0m\u001b[0mdot\u001b[0m\u001b[0;34m(\u001b[0m\u001b[0md\u001b[0m\u001b[0;34m,\u001b[0m\u001b[0mf\u001b[0m\u001b[0;34m)\u001b[0m\u001b[0;34m\u001b[0m\u001b[0;34m\u001b[0m\u001b[0m\n\u001b[0m\u001b[1;32m      3\u001b[0m \u001b[0mprint\u001b[0m\u001b[0;34m(\u001b[0m\u001b[0mdot_product\u001b[0m\u001b[0;34m)\u001b[0m\u001b[0;34m\u001b[0m\u001b[0;34m\u001b[0m\u001b[0m\n",
            "\u001b[0;31mValueError\u001b[0m: shapes (3,1) and (3,1) not aligned: 1 (dim 1) != 3 (dim 0)"
          ]
        }
      ],
      "source": [
        "# Exercise 3 code\n",
        "dot_product = np.dot(d,f)\n",
        "print(dot_product)"
      ]
    },
    {
      "cell_type": "markdown",
      "id": "1499a45d",
      "metadata": {
        "id": "1499a45d"
      },
      "source": [
        "## Exercise 4 -- Vector Slices\n",
        "Using only `g` and slice indexing, assign `[10 -1]` to `tiny_array`. What is the type of `tiny_array`? Why is this desirable behavior? Answer in Markdown."
      ]
    },
    {
      "cell_type": "code",
      "execution_count": 4,
      "id": "edaadcc6",
      "metadata": {
        "id": "edaadcc6",
        "colab": {
          "base_uri": "https://localhost:8080/"
        },
        "outputId": "368a9f9d-be91-4972-c6fa-0aa0c27d9eb7"
      },
      "outputs": [
        {
          "output_type": "stream",
          "name": "stdout",
          "text": [
            "[10 -1]\n",
            "<class 'numpy.ndarray'>\n"
          ]
        }
      ],
      "source": [
        "# Exercise 4 code\n",
        "g = np.array([-1,10,-1,5])\n",
        "tiny_array = g[1:3]\n",
        "print(tiny_array)\n",
        "print(type(tiny_array))"
      ]
    },
    {
      "cell_type": "markdown",
      "id": "8e87d5fa",
      "metadata": {
        "id": "8e87d5fa"
      },
      "source": [
        "### Response to Exercise 4\n",
        "- The type of \"tiny_array\" is class 'numpy.ndarray'\n",
        "- This behavior is desirable because it maintains the advantages of numpy arrays in terms of consistency, performance, and flexibility for numercial computations."
      ]
    },
    {
      "cell_type": "markdown",
      "id": "bce70be0",
      "metadata": {
        "id": "bce70be0"
      },
      "source": [
        "## Exercise 5 -- Matrix Transposes and Addition\n",
        "On a piece of paper or tablet, **legibly** calculate the sum of $B$ and the transpose of $C$. Label your response as \"Solution to Exercise 5\". Show your work as we did in lecture.\n",
        "\n",
        "Check your solution in the cell below. Could we add $B$ and $C$? Answer in the Markdown cell below."
      ]
    },
    {
      "cell_type": "code",
      "execution_count": 5,
      "id": "5459f3a6",
      "metadata": {
        "scrolled": true,
        "id": "5459f3a6",
        "colab": {
          "base_uri": "https://localhost:8080/"
        },
        "outputId": "82d7b551-92e2-42db-c22b-c33e4f8c204a"
      },
      "outputs": [
        {
          "output_type": "stream",
          "name": "stdout",
          "text": [
            "[[  1   5 -13]\n",
            " [  7  -7   7]\n",
            " [  2  -3   1]\n",
            " [  0   7  -6]]\n",
            "(4, 3)\n",
            "[[  1   7   2   0]\n",
            " [  5  -7  -3   7]\n",
            " [-13   7   1  -6]]\n",
            "(3, 4)\n"
          ]
        }
      ],
      "source": [
        "# Exercise 5 code\n",
        "print(C)\n",
        "print(C.shape)\n",
        "print(C.T)\n",
        "print(C.T.shape)"
      ]
    },
    {
      "cell_type": "markdown",
      "id": "73d9ee90",
      "metadata": {
        "id": "73d9ee90"
      },
      "source": [
        "### Response to Exercise 5\n",
        "- No, because they have different dimensions."
      ]
    },
    {
      "cell_type": "markdown",
      "id": "9143d0da",
      "metadata": {
        "id": "9143d0da"
      },
      "source": [
        "## Exercise 6 -- Matrix Indexing\n",
        "Complete the following steps:\n",
        "- Define a variable `tiny_mat` and set it equal to `np.array([[-7, 7], [-3, 1]])`.\n",
        "- Using only `C` and slice-indexing, recreate `tiny_mat` and assign it to `tiny_mat_clone`.\n",
        "- Define a funcion called `compare_arrs` that takes two arrays and prints \"Arrays are the same!\" if the arrays are the same and \"Arrays are different!\" if the arrays are different.  \n",
        "- Call `compare_arrs` on `tiny_mat` and `tiny_mat_clone`.\n",
        "- Call `compare_arrs` on `np.array([1, 3, 4])` and `tiny_mat_clone`.\n",
        "\n",
        "\n",
        "**Hint:** Use `np.array_equal()` within `compare_arrs`."
      ]
    },
    {
      "cell_type": "code",
      "execution_count": 6,
      "id": "ccf0fe9b",
      "metadata": {
        "id": "ccf0fe9b"
      },
      "outputs": [],
      "source": [
        "# Exercise 6 -- Define Matrices\n",
        "tiny_mat = np.array([[-7, 7], [-3,1]])\n",
        "tiny_mat_clone = C[1:3, 1:3]"
      ]
    },
    {
      "cell_type": "code",
      "execution_count": 7,
      "id": "5340e4cb",
      "metadata": {
        "id": "5340e4cb"
      },
      "outputs": [],
      "source": [
        "# Exercise 6 -- Define Function\n",
        "def compare_arrs(arr1,arr2):\n",
        "  if np.array_equal(arr1,arr2):\n",
        "    print(\"Arrays are the same!\")\n",
        "  else:\n",
        "    print(\"Arrays are different!\")"
      ]
    },
    {
      "cell_type": "code",
      "execution_count": 8,
      "id": "3e32c3ad",
      "metadata": {
        "scrolled": true,
        "id": "3e32c3ad",
        "colab": {
          "base_uri": "https://localhost:8080/"
        },
        "outputId": "c1ebd7ca-61a7-4b9c-f3d4-d807f9f86dd3"
      },
      "outputs": [
        {
          "output_type": "stream",
          "name": "stdout",
          "text": [
            "Arrays are the same!\n",
            "Arrays are different!\n"
          ]
        }
      ],
      "source": [
        "# Exercise 6 -- Call compare_arrs\n",
        "compare_arrs(tiny_mat, tiny_mat_clone)\n",
        "compare_arrs(np.array([1, 3, 4]), tiny_mat_clone)"
      ]
    },
    {
      "cell_type": "markdown",
      "id": "fe3bbe39",
      "metadata": {
        "id": "fe3bbe39"
      },
      "source": [
        "## Exercise 7 -- Symmetric Matrices\n",
        "A **symmetric matrix** is a matrix that is equal to its transpose. Using your function `compare_arrs`, test whether `A`, `B`, and `C` are symmetric. What does it say about the symmetry of a matrix when \"Arrays are the same!\" is printed? Answer in the Markdown cell below."
      ]
    },
    {
      "cell_type": "code",
      "execution_count": 9,
      "id": "c6b6d501",
      "metadata": {
        "scrolled": true,
        "id": "c6b6d501",
        "colab": {
          "base_uri": "https://localhost:8080/"
        },
        "outputId": "ffd84393-1321-4908-e895-40d55d548b53"
      },
      "outputs": [
        {
          "output_type": "stream",
          "name": "stdout",
          "text": [
            "Testing matrix A:\n",
            "Arrays are the same!\n",
            "\n",
            "Testing matrix B:\n",
            "Arrays are different!\n",
            "\n",
            "Testing matrix C:\n",
            "Arrays are different!\n"
          ]
        }
      ],
      "source": [
        "# Exercise 7 code\n",
        "def is_symmetric(matrix):\n",
        "  compare_arrs(matrix,matrix.T)\n",
        "print(\"Testing matrix A:\")\n",
        "is_symmetric(A)\n",
        "print(\"\\nTesting matrix B:\")\n",
        "is_symmetric(B)\n",
        "print(\"\\nTesting matrix C:\")\n",
        "is_symmetric(C)"
      ]
    },
    {
      "cell_type": "markdown",
      "id": "9a11d543",
      "metadata": {
        "id": "9a11d543"
      },
      "source": [
        "### Response to Exercise 7\n",
        "When \"Arrays are the same\" is printed, it means that the matrix is symmetric."
      ]
    },
    {
      "cell_type": "markdown",
      "id": "e1b4c19e",
      "metadata": {
        "id": "e1b4c19e"
      },
      "source": [
        "## Exercise 8 -- Matrix Concatenation\n",
        "We can glue or **concatenate** two arrays together using `np.vstack()` and `np.hstack()`. Each function takes a list of arrays as an argument. The former concatenates two arrays vertically (think of stacking rectangles on top of eachother) while the latter concatenates them horizontally (think of stacking rectangles side-by-side).\n",
        "\n",
        "Answer the following questions below:\n",
        "- If we call `np.vstack([A, B])` and it executes successfully, what must be true about the size of `A `and `B`?\n",
        "- If we call `np.hstack([A, B])` and it executes successfully, what must be true about the size of `A `and `B`?\n",
        "\n",
        "**Hint:** Try concatenating two arrays until you get an error. What does the error say?"
      ]
    },
    {
      "cell_type": "code",
      "execution_count": 10,
      "id": "30265351",
      "metadata": {
        "id": "30265351",
        "colab": {
          "base_uri": "https://localhost:8080/",
          "height": 341
        },
        "outputId": "62d20aad-2a91-4dd0-a6b1-698969dfde86"
      },
      "outputs": [
        {
          "output_type": "error",
          "ename": "ValueError",
          "evalue": "all the input array dimensions except for the concatenation axis must match exactly, but along dimension 1, the array at index 0 has size 3 and the array at index 1 has size 4",
          "traceback": [
            "\u001b[0;31m---------------------------------------------------------------------------\u001b[0m",
            "\u001b[0;31mValueError\u001b[0m                                Traceback (most recent call last)",
            "\u001b[0;32m<ipython-input-10-7d0d0e9b16e4>\u001b[0m in \u001b[0;36m<cell line: 2>\u001b[0;34m()\u001b[0m\n\u001b[1;32m      1\u001b[0m \u001b[0;31m# Exercise 8 -- Test vstack and hstack here as needed\u001b[0m\u001b[0;34m\u001b[0m\u001b[0;34m\u001b[0m\u001b[0m\n\u001b[0;32m----> 2\u001b[0;31m \u001b[0mvstack_result\u001b[0m \u001b[0;34m=\u001b[0m \u001b[0mnp\u001b[0m\u001b[0;34m.\u001b[0m\u001b[0mvstack\u001b[0m\u001b[0;34m(\u001b[0m\u001b[0;34m[\u001b[0m\u001b[0mA\u001b[0m\u001b[0;34m,\u001b[0m \u001b[0mB\u001b[0m\u001b[0;34m]\u001b[0m\u001b[0;34m)\u001b[0m\u001b[0;34m\u001b[0m\u001b[0;34m\u001b[0m\u001b[0m\n\u001b[0m\u001b[1;32m      3\u001b[0m \u001b[0;32mtry\u001b[0m\u001b[0;34m:\u001b[0m\u001b[0;34m\u001b[0m\u001b[0;34m\u001b[0m\u001b[0m\n\u001b[1;32m      4\u001b[0m   \u001b[0mhstack_result\u001b[0m \u001b[0;34m=\u001b[0m \u001b[0mnp\u001b[0m\u001b[0;34m.\u001b[0m\u001b[0mhstack\u001b[0m\u001b[0;34m(\u001b[0m\u001b[0;34m[\u001b[0m\u001b[0mA\u001b[0m\u001b[0;34m,\u001b[0m \u001b[0mB\u001b[0m\u001b[0;34m]\u001b[0m\u001b[0;34m)\u001b[0m\u001b[0;34m\u001b[0m\u001b[0;34m\u001b[0m\u001b[0m\n\u001b[1;32m      5\u001b[0m \u001b[0;32mexcept\u001b[0m \u001b[0mValueError\u001b[0m \u001b[0;32mas\u001b[0m \u001b[0me\u001b[0m\u001b[0;34m:\u001b[0m\u001b[0;34m\u001b[0m\u001b[0;34m\u001b[0m\u001b[0m\n",
            "\u001b[0;32m/usr/local/lib/python3.10/dist-packages/numpy/core/shape_base.py\u001b[0m in \u001b[0;36mvstack\u001b[0;34m(tup, dtype, casting)\u001b[0m\n\u001b[1;32m    287\u001b[0m     \u001b[0;32mif\u001b[0m \u001b[0;32mnot\u001b[0m \u001b[0misinstance\u001b[0m\u001b[0;34m(\u001b[0m\u001b[0marrs\u001b[0m\u001b[0;34m,\u001b[0m \u001b[0mlist\u001b[0m\u001b[0;34m)\u001b[0m\u001b[0;34m:\u001b[0m\u001b[0;34m\u001b[0m\u001b[0;34m\u001b[0m\u001b[0m\n\u001b[1;32m    288\u001b[0m         \u001b[0marrs\u001b[0m \u001b[0;34m=\u001b[0m \u001b[0;34m[\u001b[0m\u001b[0marrs\u001b[0m\u001b[0;34m]\u001b[0m\u001b[0;34m\u001b[0m\u001b[0;34m\u001b[0m\u001b[0m\n\u001b[0;32m--> 289\u001b[0;31m     \u001b[0;32mreturn\u001b[0m \u001b[0m_nx\u001b[0m\u001b[0;34m.\u001b[0m\u001b[0mconcatenate\u001b[0m\u001b[0;34m(\u001b[0m\u001b[0marrs\u001b[0m\u001b[0;34m,\u001b[0m \u001b[0;36m0\u001b[0m\u001b[0;34m,\u001b[0m \u001b[0mdtype\u001b[0m\u001b[0;34m=\u001b[0m\u001b[0mdtype\u001b[0m\u001b[0;34m,\u001b[0m \u001b[0mcasting\u001b[0m\u001b[0;34m=\u001b[0m\u001b[0mcasting\u001b[0m\u001b[0;34m)\u001b[0m\u001b[0;34m\u001b[0m\u001b[0;34m\u001b[0m\u001b[0m\n\u001b[0m\u001b[1;32m    290\u001b[0m \u001b[0;34m\u001b[0m\u001b[0m\n\u001b[1;32m    291\u001b[0m \u001b[0;34m\u001b[0m\u001b[0m\n",
            "\u001b[0;31mValueError\u001b[0m: all the input array dimensions except for the concatenation axis must match exactly, but along dimension 1, the array at index 0 has size 3 and the array at index 1 has size 4"
          ]
        }
      ],
      "source": [
        "# Exercise 8 -- Test vstack and hstack here as needed\n",
        "vstack_result = np.vstack([A, B])\n",
        "try:\n",
        "  hstack_result = np.hstack([A, B])\n",
        "except ValueError as e:\n",
        "  print(e)"
      ]
    },
    {
      "cell_type": "markdown",
      "id": "08e35010",
      "metadata": {
        "id": "08e35010"
      },
      "source": [
        "### Response to Exercise 8\n",
        "- For'np.vstack([A, B])' to execute successfully, A and B must have the same number of columns.\n",
        "- For 'np.hstack([A, B]' to execute successfully, A and B must have the same number of rows.\n"
      ]
    },
    {
      "cell_type": "markdown",
      "id": "76713bcd",
      "metadata": {
        "id": "76713bcd"
      },
      "source": [
        "## Exercise 9 -- Element-Wise Multiplication\n",
        "On a piece of paper or tablet, **legibly** calculate the element-wise multiplication of $B$ and the transpose of $C$. Label your response as \"Solution to Exercise 9\". Show your work as we did in lecture.\n",
        "\n",
        "Check your solution in the cell below."
      ]
    },
    {
      "cell_type": "code",
      "execution_count": 5,
      "id": "a7148441",
      "metadata": {
        "id": "a7148441",
        "colab": {
          "base_uri": "https://localhost:8080/"
        },
        "outputId": "2c2167f9-54af-4d2f-f80c-f757eca5886d"
      },
      "outputs": [
        {
          "output_type": "stream",
          "name": "stdout",
          "text": [
            "[[  0   7   6   0]\n",
            " [ 30   7   6 -63]\n",
            " [-26  35   1 -12]]\n"
          ]
        }
      ],
      "source": [
        "# Exercise 9 Code\n",
        "\n",
        "print(B * C.T)"
      ]
    },
    {
      "cell_type": "markdown",
      "id": "74af3830",
      "metadata": {
        "id": "74af3830"
      },
      "source": [
        "## Exercise 10 -- Matrix Multiplication\n",
        "On a piece of paper or tablet, **legibly** complete the following matrix multiplication (not element-wise multiplication!) exercise:\n",
        "$$A * B$$\n",
        "\n",
        "\n",
        "\n",
        "\n",
        "Label your response as \"Solution to Exercise 10\". Show your work as we did in lecture.\n",
        "\n",
        "Check your solution in the cell below uinsg `np.matmul()`."
      ]
    },
    {
      "cell_type": "code",
      "execution_count": 6,
      "id": "4e2798fb",
      "metadata": {
        "id": "4e2798fb",
        "colab": {
          "base_uri": "https://localhost:8080/"
        },
        "outputId": "4335b37b-e10e-4254-ba34-43786802f4df"
      },
      "outputs": [
        {
          "output_type": "stream",
          "name": "stdout",
          "text": [
            "[[ 36  11  -4 -30]\n",
            " [-20  19  25  85]\n",
            " [ 14   6   6  11]]\n"
          ]
        }
      ],
      "source": [
        "# Exercise 10 Code\n",
        "print(np.matmul(A, B))"
      ]
    },
    {
      "cell_type": "markdown",
      "id": "0ee66928",
      "metadata": {
        "id": "0ee66928"
      },
      "source": [
        "## Exercise 11 -- Plotting with `np.linspace`\n",
        "Using `numpy` and `matplotlib.pyplot`, plot the function `sin(log(x))`.\n",
        "Make sure you use a fine grid.\n",
        "\n",
        "**Hint:** Look at lectures for hints."
      ]
    },
    {
      "cell_type": "code",
      "execution_count": 7,
      "id": "ea993843",
      "metadata": {
        "id": "ea993843",
        "colab": {
          "base_uri": "https://localhost:8080/",
          "height": 564
        },
        "outputId": "ee4a5cb2-409b-43a7-ddc3-a4d2542ab0b1"
      },
      "outputs": [
        {
          "output_type": "display_data",
          "data": {
            "text/plain": [
              "<Figure size 1000x600 with 1 Axes>"
            ],
            "image/png": "[encoded data removed]"
          },
          "metadata": {}
        }
      ],
      "source": [
        "# Exercise 11 Code\n",
        "import numpy as np\n",
        "import matplotlib.pyplot as plt\n",
        "x = np.linspace(0.01, 10, 1000)\n",
        "y = np.sin(np.log(x))\n",
        "plt.figure(figsize=(10, 6))\n",
        "plt.plot(x, y, label='sin(log(x))')\n",
        "plt.xlabel('x')\n",
        "plt.ylabel('sin(log(x))')\n",
        "plt.title('Plot of sin(log(x))')\n",
        "plt.legend()\n",
        "plt.grid(True)\n",
        "plt.show()\n"
      ]
    },
    {
      "cell_type": "markdown",
      "id": "e9452e99",
      "metadata": {
        "id": "e9452e99"
      },
      "source": [
        "## Exercise 12 -- Multidimensional Arrays\n",
        "Run the following command `print(zeros((3,4,5)))` in the cell below and answer the following questions in the Markdown cell below.\n",
        "1. What do you think the dimensionality of this array is?  \n",
        "2. Why would writing this array on paper be difficult?\n",
        "\n"
      ]
    },
    {
      "cell_type": "code",
      "execution_count": 9,
      "id": "541190ea",
      "metadata": {
        "scrolled": true,
        "id": "541190ea",
        "colab": {
          "base_uri": "https://localhost:8080/"
        },
        "outputId": "31112ba5-60b9-4449-a427-0f48cc53c37b"
      },
      "outputs": [
        {
          "output_type": "stream",
          "name": "stdout",
          "text": [
            "[[[0. 0. 0. 0. 0.]\n",
            "  [0. 0. 0. 0. 0.]\n",
            "  [0. 0. 0. 0. 0.]\n",
            "  [0. 0. 0. 0. 0.]]\n",
            "\n",
            " [[0. 0. 0. 0. 0.]\n",
            "  [0. 0. 0. 0. 0.]\n",
            "  [0. 0. 0. 0. 0.]\n",
            "  [0. 0. 0. 0. 0.]]\n",
            "\n",
            " [[0. 0. 0. 0. 0.]\n",
            "  [0. 0. 0. 0. 0.]\n",
            "  [0. 0. 0. 0. 0.]\n",
            "  [0. 0. 0. 0. 0.]]]\n"
          ]
        }
      ],
      "source": [
        "# Exercise 12 Code\n",
        "print(np.zeros((3,4,5)))"
      ]
    },
    {
      "cell_type": "markdown",
      "id": "bb249cad",
      "metadata": {
        "id": "bb249cad"
      },
      "source": [
        "### Response to Exercise 12"
      ]
    },
    {
      "cell_type": "markdown",
      "source": [
        "- The dimensionality of this array is 3.\n",
        "- There are three reasons why writing this array on paper is difficult. Firstly, representing a 3D array on a 2D medium is challenging. Secondly, as the array has 60 elements, keeping track of all elements and their positions within the array's structure can be difficult. Lastly, Ensuring the array is readable and interpretable when represented on paper requires careful formatting, which can become complex and lead to mistakes.\n",
        ""
      ],
      "metadata": {
        "id": "V8fLk8zGySIn"
      },
      "id": "V8fLk8zGySIn"
    }
  ],
  "metadata": {
    "kernelspec": {
      "display_name": "Python 3 (ipykernel)",
      "language": "python",
      "name": "python3"
    },
    "language_info": {
      "codemirror_mode": {
        "name": "ipython",
        "version": 3
      },
      "file_extension": ".py",
      "mimetype": "text/x-python",
      "name": "python",
      "nbconvert_exporter": "python",
      "pygments_lexer": "ipython3",
      "version": "3.9.15"
    },
    "colab": {
      "provenance": []
    }
  },
  "nbformat": 4,
  "nbformat_minor": 5
}