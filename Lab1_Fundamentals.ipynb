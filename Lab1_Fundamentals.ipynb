{
  "cells": [
    {
      "cell_type": "markdown",
      "id": "fea96cfa",
      "metadata": {
        "id": "fea96cfa"
      },
      "source": [
        "# Lab Assignment 1 -- Fundamentals\n",
        "In this lab, you will complete a series of exercises related to the lecture material on coding fundamentals and collections.\n",
        "\n",
        "Since this is the first lab that involves coding, we will begin with an exercise related to Jupyter notebook functionality."
      ]
    },
    {
      "cell_type": "markdown",
      "id": "5b0e6098",
      "metadata": {
        "id": "5b0e6098"
      },
      "source": [
        "## Exercise 1 -- Jupyter Markdown Basics\n",
        "Jupyter notebooks allows cells to be interpreted as either code or Markdown. Markdown is a lightweight formatting language. In fact, what you're reading right now is written in Markdown. The syntax is very simple and a reference for common commands can be found [here](https://www.markdownguide.org/cheat-sheet/). Use this reference guide to complete the following steps:\n",
        "\n",
        "1. Create a cell below this one by using the insert drop down menu or by clicking on the left of this box (so the side bar turns blue) and tapping the <kbd>b</kbd> key.\n",
        "2. Make the cell a Markdown cell by clicking on it and using the drop down menu above.\n",
        "3. Using the reference guide, find out how to create the **smallest** heading  and use it give the cell you create a header of \"Solution to Exercise 1\" without the quotes.\n",
        "4. Using the reference guide, figure out how to make ordered and unordered lists. Using an unordered list, list three of the things you hope to learn from this class.\n",
        "5. Sometimes, we want to reference specific code or code objects in the text of Markdown. Markdown allows us to format such reference so that it appears in a gray box (e.g. `x=3`). Using the reference guide, figure out how to format code and format  x = 3, so it has a gray box around it in the cell you created."
      ]
    },
    {
      "cell_type": "markdown",
      "source": [
        "### Solution to Exercise 1\n",
        "- Basic coding skills\n",
        "- How to use data base efficiently\n",
        "- How to work with AI\n",
        "- `x=3`"
      ],
      "metadata": {
        "id": "WJrHBDJx0eoD"
      },
      "id": "WJrHBDJx0eoD"
    },
    {
      "cell_type": "markdown",
      "id": "7835167d",
      "metadata": {
        "id": "7835167d"
      },
      "source": [
        "## Exercise 2 -- Basic Variable Assignment\n",
        "Complete the following steps in the cells below.\n",
        "1. Generate a variable called `x_flt` and set it equal to 3.0. Print its type.\n",
        "2. Generate a variable called `x_int` and set it equal to 3. Print its type.\n",
        "3. Generate a variable called  `x_str` and set it equal to \"3\". Print its type.\n",
        "4. Which of these two variables can you add together with the `+` operator? Why? Answer in the Markdown cell below."
      ]
    },
    {
      "cell_type": "code",
      "id": "8c80cd8e",
      "metadata": {
        "colab": {
          "base_uri": "https://localhost:8080/"
        },
        "id": "8c80cd8e",
        "outputId": "072fd3c9-4ec0-46c1-fcfa-41d34c970dcf"
      },
      "source": [
        "# Exercise 2 Code\n",
        "x_flt=3.0\n",
        "print(x_flt)"
      ],
      "outputs": [
        {
          "output_type": "stream",
          "name": "stdout",
          "text": [
            "3.0\n"
          ]
        }
      ],
      "execution_count": null
    },
    {
      "cell_type": "code",
      "source": [
        "x_int=3\n",
        "print(x_int)"
      ],
      "metadata": {
        "colab": {
          "base_uri": "https://localhost:8080/"
        },
        "id": "scnp0ATV5Ww9",
        "outputId": "e2d7ef13-6136-41e4-ce41-64d4c4f1656c"
      },
      "id": "scnp0ATV5Ww9",
      "execution_count": null,
      "outputs": [
        {
          "output_type": "stream",
          "name": "stdout",
          "text": [
            "3\n"
          ]
        }
      ]
    },
    {
      "cell_type": "code",
      "source": [
        "x_str=\"3\"\n",
        "print(x_str)"
      ],
      "metadata": {
        "colab": {
          "base_uri": "https://localhost:8080/"
        },
        "id": "2PA__DXk5tih",
        "outputId": "68f7af7e-6c96-4be5-c8b6-bac1d74d84a4"
      },
      "id": "2PA__DXk5tih",
      "execution_count": null,
      "outputs": [
        {
          "output_type": "stream",
          "name": "stdout",
          "text": [
            "3\n"
          ]
        }
      ]
    },
    {
      "cell_type": "markdown",
      "id": "70b8adf0",
      "metadata": {
        "id": "70b8adf0"
      },
      "source": [
        "### Response to 2.4\n",
        "We can add x_flt and x_int together, because these two are numbers, but x_str is a string."
      ]
    },
    {
      "cell_type": "markdown",
      "id": "9db99652",
      "metadata": {
        "id": "9db99652"
      },
      "source": [
        "## Exercise 3 -- Variable Reassignment\n",
        "Complete the following steps in the cells below.\n",
        "1. Assign `x` equal to `\"good\"`\n",
        "2. Assign `y` equal to `x`\n",
        "3. Reassign `x` to `\"bad\"`\n",
        "4. Use `print` to print `y`\n",
        "5. Does the print statement print \"good\" or a \"bad\"? Did changing `x` to \"bad\" affect anything? Why or why not? Answer in the Markdown cell below."
      ]
    },
    {
      "cell_type": "code",
      "id": "9c154552",
      "metadata": {
        "scrolled": true,
        "colab": {
          "base_uri": "https://localhost:8080/"
        },
        "id": "9c154552",
        "outputId": "953f7043-4e65-4507-dfcc-62b076422642"
      },
      "source": [
        "# Exercise 3 Code\n",
        "x=\"good\"\n",
        "y=x\n",
        "x=\"bad\"\n",
        "print(y)"
      ],
      "outputs": [
        {
          "output_type": "stream",
          "name": "stdout",
          "text": [
            "good\n"
          ]
        }
      ],
      "execution_count": null
    },
    {
      "cell_type": "markdown",
      "id": "b24737e5",
      "metadata": {
        "id": "b24737e5"
      },
      "source": [
        "### Response to 3.5\n",
        "As it runs in sequence and we type y=x before redifining x, it will still consider x=\"good\" when printing y."
      ]
    },
    {
      "cell_type": "markdown",
      "id": "4700d845",
      "metadata": {
        "id": "4700d845"
      },
      "source": [
        "## Exercise 4 -- Basic Arithmetic\n",
        "Generate the following variables with the corresponding value in the cell below:\n",
        "1. `x` equal to 20\n",
        "2. `y` equal to 10\n",
        "3. `z1` equal to the sum of `x` and `y`\n",
        "4. `z2` equal to `x` minus `y`\n",
        "5. `z3` equal to `x` times `y`\n",
        "6. `z4` equal to `x` divided by `y`\n",
        "\n",
        "Answer the following question in the Markdown Cell Below\n",
        "\n",
        "7. Use `type()` to deterimine which of these variables is a floating point number? Why is this the case?"
      ]
    },
    {
      "cell_type": "code",
      "id": "564b49ec",
      "metadata": {
        "colab": {
          "base_uri": "https://localhost:8080/"
        },
        "id": "564b49ec",
        "outputId": "1ca07bf6-dcdd-4f34-acab-c8f84fa28645"
      },
      "source": [
        "# Exercise 4 Code\n",
        "x=20\n",
        "y=10\n",
        "z1=x+y\n",
        "print(z1)\n",
        "z2=x-y\n",
        "print(z2)\n",
        "z3=x*y\n",
        "print(z3)\n",
        "z4=x/y\n",
        "print(z4)"
      ],
      "outputs": [
        {
          "output_type": "stream",
          "name": "stdout",
          "text": [
            "30\n",
            "10\n",
            "200\n",
            "2.0\n"
          ]
        }
      ],
      "execution_count": null
    },
    {
      "cell_type": "markdown",
      "id": "ac2063f9",
      "metadata": {
        "id": "ac2063f9"
      },
      "source": [
        "### Response to 4.7"
      ]
    },
    {
      "metadata": {
        "colab": {
          "base_uri": "https://localhost:8080/"
        },
        "id": "26e05e804aba213c",
        "outputId": "79767121-c63e-4ba9-88e2-88de8959749a"
      },
      "cell_type": "code",
      "source": [
        "print(type(30))\n",
        "print(type(10))\n",
        "print(type(200))\n",
        "print(type(2.0))"
      ],
      "id": "26e05e804aba213c",
      "outputs": [
        {
          "output_type": "stream",
          "name": "stdout",
          "text": [
            "<class 'int'>\n",
            "<class 'int'>\n",
            "<class 'int'>\n",
            "<class 'float'>\n"
          ]
        }
      ],
      "execution_count": null
    },
    {
      "cell_type": "markdown",
      "source": [
        "Because we included the .0 after the 4."
      ],
      "metadata": {
        "id": "ZsnoqjNR9sSl"
      },
      "id": "ZsnoqjNR9sSl"
    },
    {
      "metadata": {
        "id": "2024ad69c823f131"
      },
      "cell_type": "markdown",
      "source": [
        "## Exercise 5 -- String Formatting\n",
        "Complete the following steps in the cell below:\n",
        "1. Define a list called `cities` that contains the names of three cities you would like to visit.\n",
        "2. Define a corresponding list called `countries` where an entry is the country of each of those three cities.\n",
        "3. Using these lists and f strings, print a sentence that says what country a city is in for each city in your list\n",
        "4. Now do the same thing again but use the `.format()` method instead of f strings."
      ],
      "id": "2024ad69c823f131"
    },
    {
      "metadata": {
        "colab": {
          "base_uri": "https://localhost:8080/"
        },
        "id": "4bb3c5643a0ee99e",
        "outputId": "e0a267ad-60b2-4a3a-c147-f633d09ab84e"
      },
      "cell_type": "code",
      "source": [
        "# Exercise 5 Code\n",
        "city1=\"Changsha\"\n",
        "city2=\"Tokyo\"\n",
        "city3=\"New York\"\n",
        "country1=\"China\"\n",
        "country2=\"Japan\"\n",
        "country3=\"America\"\n",
        "string_1=f\"{city1} is in {country1}.\"\n",
        "string_2=f\"{city2} is in {country2}.\"\n",
        "string_3=f\"{city3} is in {country3}.\"\n",
        "print(string_1)\n",
        "print(string_2)\n",
        "print(string_3)\n",
        "\n",
        "string_1=\"{city1} is in {country1}.\"\n",
        "print(string_1.format(city1 = \"Changsha\", country1 = \"China\"))\n",
        "string_2=\"{city2} is in {country2}.\"\n",
        "print(string_2.format(city2 = \"Tokyo\", country2 = \"Japan\"))\n",
        "string_3=\"{city3} is in {country3}.\"\n",
        "print(string_3.format(city3 = \"New York\", country3 = \"America\"))"
      ],
      "id": "4bb3c5643a0ee99e",
      "outputs": [
        {
          "output_type": "stream",
          "name": "stdout",
          "text": [
            "Changsha is in China.\n",
            "Tokyo is in Japan.\n",
            "New York is in America.\n",
            "Changsha is in China.\n",
            "Tokyo is in Japan.\n",
            "New York is in America.\n"
          ]
        }
      ],
      "execution_count": null
    },
    {
      "metadata": {
        "id": "fce68f68177b1995"
      },
      "cell_type": "markdown",
      "source": [
        "## Exercise 6 -- String Concatenation\n",
        "Complete the following steps in the cell below:\n",
        "1. Assign `b` to be equal to \"b\"\n",
        "2. Assign `a` to be equal to \"a\"\n",
        "3. Assign `n` to be equal to \"n\"\n",
        "4. Using these variables, `+`, and `print`, print the the word \"banana\""
      ],
      "id": "fce68f68177b1995"
    },
    {
      "metadata": {
        "colab": {
          "base_uri": "https://localhost:8080/"
        },
        "id": "7cd33ad42612cc2",
        "outputId": "cc7422a8-3814-4094-c11c-03358cdd0888"
      },
      "cell_type": "code",
      "source": [
        "# Exercise 6 Code\n",
        "b=\"b\"\n",
        "a=\"a\"\n",
        "n=\"n\"\n",
        "print(b+a+n+a+n+a)"
      ],
      "id": "7cd33ad42612cc2",
      "outputs": [
        {
          "output_type": "stream",
          "name": "stdout",
          "text": [
            "banana\n"
          ]
        }
      ],
      "execution_count": null
    },
    {
      "metadata": {
        "id": "293a4c9fc698f9d9"
      },
      "cell_type": "markdown",
      "source": [
        "## Exercise 7 -- Boolean Variable Keywords\n",
        "Assign `a`, `b`,`c`, and `d`, so that every print statement below is true.\n",
        "\n",
        "\n",
        "Afterwards, answer the following quesiton in the Markdown cell below:\n",
        "\n",
        "Is the configuration of `a`, `b`,`c`, and `d` that makes both statements true unique? Why or why not? If it isn't unique, add another print statement to the list to rule out other configurations?"
      ],
      "id": "293a4c9fc698f9d9"
    },
    {
      "metadata": {
        "id": "6a5495628c88bf25"
      },
      "cell_type": "code",
      "source": [
        "# Exercise 7 Code\n",
        "a = True\n",
        "b = False\n",
        "c = False\n",
        "d = False"
      ],
      "id": "6a5495628c88bf25",
      "outputs": [],
      "execution_count": null
    },
    {
      "metadata": {
        "colab": {
          "base_uri": "https://localhost:8080/"
        },
        "id": "5c6037cdfe69c6aa",
        "outputId": "0e24c7ff-7811-4e89-b44a-d8444a9ff05d"
      },
      "cell_type": "code",
      "source": [
        "# Uncomment the lines below when you have defined the variables to check your results\n",
        "print(((a and b) or (c and d)) == False)\n",
        "print(((a or c) and (b or d)) == False)\n",
        "print(a and (not b) and (not c) and (not d))"
      ],
      "id": "5c6037cdfe69c6aa",
      "outputs": [
        {
          "output_type": "stream",
          "name": "stdout",
          "text": [
            "True\n",
            "True\n",
            "True\n"
          ]
        }
      ],
      "execution_count": null
    },
    {
      "cell_type": "markdown",
      "source": [
        "- No. The first statement requires that at least one of the combinations is False. The second statement requires that one element in each combinationvis False. It follows that any combination that contains either ab or cd that is simultaneously False can make both statements True.\n",
        "- print((not a) and (not b) and c and d == True)"
      ],
      "metadata": {
        "id": "ZWH2Yq7dccLE"
      },
      "id": "ZWH2Yq7dccLE"
    }
  ],
  "metadata": {
    "kernelspec": {
      "display_name": "Python 3 (ipykernel)",
      "language": "python",
      "name": "python3"
    },
    "language_info": {
      "codemirror_mode": {
        "name": "ipython",
        "version": 3
      },
      "file_extension": ".py",
      "mimetype": "text/x-python",
      "name": "python",
      "nbconvert_exporter": "python",
      "pygments_lexer": "ipython3",
      "version": "3.9.15"
    },
    "colab": {
      "provenance": []
    }
  },
  "nbformat": 4,
  "nbformat_minor": 5
}